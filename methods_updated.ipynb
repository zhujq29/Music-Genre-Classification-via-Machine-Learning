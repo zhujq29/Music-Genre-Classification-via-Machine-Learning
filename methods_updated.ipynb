{
 "cells": [
  {
   "cell_type": "code",
   "execution_count": 1,
   "metadata": {
    "cell_id": "4aed15c0-b29e-4eff-a4c7-ecfc189111e0",
    "deepnote_cell_height": 135,
    "deepnote_cell_type": "code",
    "deepnote_to_be_reexecuted": false,
    "execution_millis": 9,
    "execution_start": 1650259893913,
    "source_hash": "f1d951a8"
   },
   "outputs": [],
   "source": [
    "import seaborn as sns\n",
    "import pandas as pd\n",
    "import numpy as np\n",
    "import matplotlib.pyplot as plt"
   ]
  },
  {
   "cell_type": "code",
   "execution_count": 2,
   "metadata": {
    "cell_id": "00001-b4eddda7-16e7-4b58-8411-1a4092b7875d",
    "deepnote_cell_height": 81,
    "deepnote_cell_type": "code",
    "deepnote_to_be_reexecuted": false,
    "execution_millis": 170,
    "execution_start": 1650259859513,
    "owner_user_id": "48f51c2b-20df-4a8c-9876-a885bf2ebe9f",
    "source_hash": "a943ebfa"
   },
   "outputs": [],
   "source": [
    "music = pd.read_csv('train.csv')"
   ]
  },
  {
   "cell_type": "code",
   "execution_count": 3,
   "metadata": {
    "cell_id": "00002-4f31a3b2-e211-4750-81ba-c9446a97dfed",
    "deepnote_cell_height": 410,
    "deepnote_cell_type": "code",
    "deepnote_to_be_reexecuted": false,
    "execution_millis": 199,
    "execution_start": 1650259859684,
    "source_hash": "6f5da834"
   },
   "outputs": [
    {
     "data": {
      "text/html": [
       "<div>\n",
       "<style scoped>\n",
       "    .dataframe tbody tr th:only-of-type {\n",
       "        vertical-align: middle;\n",
       "    }\n",
       "\n",
       "    .dataframe tbody tr th {\n",
       "        vertical-align: top;\n",
       "    }\n",
       "\n",
       "    .dataframe thead th {\n",
       "        text-align: right;\n",
       "    }\n",
       "</style>\n",
       "<table border=\"1\" class=\"dataframe\">\n",
       "  <thead>\n",
       "    <tr style=\"text-align: right;\">\n",
       "      <th></th>\n",
       "      <th>Artist Name</th>\n",
       "      <th>Track Name</th>\n",
       "      <th>Popularity</th>\n",
       "      <th>danceability</th>\n",
       "      <th>energy</th>\n",
       "      <th>key</th>\n",
       "      <th>loudness</th>\n",
       "      <th>mode</th>\n",
       "      <th>speechiness</th>\n",
       "      <th>acousticness</th>\n",
       "      <th>instrumentalness</th>\n",
       "      <th>liveness</th>\n",
       "      <th>valence</th>\n",
       "      <th>tempo</th>\n",
       "      <th>duration_in min/ms</th>\n",
       "      <th>time_signature</th>\n",
       "      <th>Class</th>\n",
       "    </tr>\n",
       "  </thead>\n",
       "  <tbody>\n",
       "    <tr>\n",
       "      <th>0</th>\n",
       "      <td>Bruno Mars</td>\n",
       "      <td>That's What I Like (feat. Gucci Mane)</td>\n",
       "      <td>60.0</td>\n",
       "      <td>0.854</td>\n",
       "      <td>0.564</td>\n",
       "      <td>1.0</td>\n",
       "      <td>-4.964</td>\n",
       "      <td>1</td>\n",
       "      <td>0.0485</td>\n",
       "      <td>0.017100</td>\n",
       "      <td>NaN</td>\n",
       "      <td>0.0849</td>\n",
       "      <td>0.8990</td>\n",
       "      <td>134.071</td>\n",
       "      <td>234596.0</td>\n",
       "      <td>4</td>\n",
       "      <td>5</td>\n",
       "    </tr>\n",
       "    <tr>\n",
       "      <th>1</th>\n",
       "      <td>Boston</td>\n",
       "      <td>Hitch a Ride</td>\n",
       "      <td>54.0</td>\n",
       "      <td>0.382</td>\n",
       "      <td>0.814</td>\n",
       "      <td>3.0</td>\n",
       "      <td>-7.230</td>\n",
       "      <td>1</td>\n",
       "      <td>0.0406</td>\n",
       "      <td>0.001100</td>\n",
       "      <td>0.004010</td>\n",
       "      <td>0.1010</td>\n",
       "      <td>0.5690</td>\n",
       "      <td>116.454</td>\n",
       "      <td>251733.0</td>\n",
       "      <td>4</td>\n",
       "      <td>10</td>\n",
       "    </tr>\n",
       "    <tr>\n",
       "      <th>2</th>\n",
       "      <td>The Raincoats</td>\n",
       "      <td>No Side to Fall In</td>\n",
       "      <td>35.0</td>\n",
       "      <td>0.434</td>\n",
       "      <td>0.614</td>\n",
       "      <td>6.0</td>\n",
       "      <td>-8.334</td>\n",
       "      <td>1</td>\n",
       "      <td>0.0525</td>\n",
       "      <td>0.486000</td>\n",
       "      <td>0.000196</td>\n",
       "      <td>0.3940</td>\n",
       "      <td>0.7870</td>\n",
       "      <td>147.681</td>\n",
       "      <td>109667.0</td>\n",
       "      <td>4</td>\n",
       "      <td>6</td>\n",
       "    </tr>\n",
       "    <tr>\n",
       "      <th>3</th>\n",
       "      <td>Deno</td>\n",
       "      <td>Lingo (feat. J.I &amp; Chunkz)</td>\n",
       "      <td>66.0</td>\n",
       "      <td>0.853</td>\n",
       "      <td>0.597</td>\n",
       "      <td>10.0</td>\n",
       "      <td>-6.528</td>\n",
       "      <td>0</td>\n",
       "      <td>0.0555</td>\n",
       "      <td>0.021200</td>\n",
       "      <td>NaN</td>\n",
       "      <td>0.1220</td>\n",
       "      <td>0.5690</td>\n",
       "      <td>107.033</td>\n",
       "      <td>173968.0</td>\n",
       "      <td>4</td>\n",
       "      <td>5</td>\n",
       "    </tr>\n",
       "    <tr>\n",
       "      <th>4</th>\n",
       "      <td>Red Hot Chili Peppers</td>\n",
       "      <td>Nobody Weird Like Me - Remastered</td>\n",
       "      <td>53.0</td>\n",
       "      <td>0.167</td>\n",
       "      <td>0.975</td>\n",
       "      <td>2.0</td>\n",
       "      <td>-4.279</td>\n",
       "      <td>1</td>\n",
       "      <td>0.2160</td>\n",
       "      <td>0.000169</td>\n",
       "      <td>0.016100</td>\n",
       "      <td>0.1720</td>\n",
       "      <td>0.0918</td>\n",
       "      <td>199.060</td>\n",
       "      <td>229960.0</td>\n",
       "      <td>4</td>\n",
       "      <td>10</td>\n",
       "    </tr>\n",
       "  </tbody>\n",
       "</table>\n",
       "</div>"
      ],
      "text/plain": [
       "             Artist Name                             Track Name  Popularity  \\\n",
       "0             Bruno Mars  That's What I Like (feat. Gucci Mane)        60.0   \n",
       "1                 Boston                           Hitch a Ride        54.0   \n",
       "2          The Raincoats                     No Side to Fall In        35.0   \n",
       "3                   Deno             Lingo (feat. J.I & Chunkz)        66.0   \n",
       "4  Red Hot Chili Peppers      Nobody Weird Like Me - Remastered        53.0   \n",
       "\n",
       "   danceability  energy   key  loudness  mode  speechiness  acousticness  \\\n",
       "0         0.854   0.564   1.0    -4.964     1       0.0485      0.017100   \n",
       "1         0.382   0.814   3.0    -7.230     1       0.0406      0.001100   \n",
       "2         0.434   0.614   6.0    -8.334     1       0.0525      0.486000   \n",
       "3         0.853   0.597  10.0    -6.528     0       0.0555      0.021200   \n",
       "4         0.167   0.975   2.0    -4.279     1       0.2160      0.000169   \n",
       "\n",
       "   instrumentalness  liveness  valence    tempo  duration_in min/ms  \\\n",
       "0               NaN    0.0849   0.8990  134.071            234596.0   \n",
       "1          0.004010    0.1010   0.5690  116.454            251733.0   \n",
       "2          0.000196    0.3940   0.7870  147.681            109667.0   \n",
       "3               NaN    0.1220   0.5690  107.033            173968.0   \n",
       "4          0.016100    0.1720   0.0918  199.060            229960.0   \n",
       "\n",
       "   time_signature  Class  \n",
       "0               4      5  \n",
       "1               4     10  \n",
       "2               4      6  \n",
       "3               4      5  \n",
       "4               4     10  "
      ]
     },
     "execution_count": 3,
     "metadata": {},
     "output_type": "execute_result"
    }
   ],
   "source": [
    "music.head()"
   ]
  },
  {
   "cell_type": "code",
   "execution_count": 4,
   "metadata": {
    "cell_id": "00003-6662555a-09b8-417e-83df-ef3aa93177ad",
    "deepnote_cell_height": 118.1875,
    "deepnote_cell_type": "code",
    "deepnote_output_heights": [
     21.1875
    ],
    "deepnote_to_be_reexecuted": false,
    "execution_millis": 703364,
    "execution_start": 1650259859897,
    "source_hash": "64ca68d4"
   },
   "outputs": [
    {
     "data": {
      "text/plain": [
       "(17996, 17)"
      ]
     },
     "execution_count": 4,
     "metadata": {},
     "output_type": "execute_result"
    }
   ],
   "source": [
    "music.shape"
   ]
  },
  {
   "cell_type": "code",
   "execution_count": 5,
   "metadata": {
    "cell_id": "00004-a7145aa6-15d1-4d42-b623-f1f6f9cf7a09",
    "deepnote_cell_height": 444.515625,
    "deepnote_cell_type": "code",
    "deepnote_output_heights": [
     347.515625
    ],
    "deepnote_to_be_reexecuted": false,
    "execution_millis": 703292,
    "execution_start": 1650259859930,
    "source_hash": "fd13d757"
   },
   "outputs": [
    {
     "data": {
      "text/plain": [
       "Artist Name              0\n",
       "Track Name               0\n",
       "Popularity             428\n",
       "danceability             0\n",
       "energy                   0\n",
       "key                   2014\n",
       "loudness                 0\n",
       "mode                     0\n",
       "speechiness              0\n",
       "acousticness             0\n",
       "instrumentalness      4377\n",
       "liveness                 0\n",
       "valence                  0\n",
       "tempo                    0\n",
       "duration_in min/ms       0\n",
       "time_signature           0\n",
       "Class                    0\n",
       "dtype: int64"
      ]
     },
     "execution_count": 5,
     "metadata": {},
     "output_type": "execute_result"
    }
   ],
   "source": [
    "music.isnull().sum()"
   ]
  },
  {
   "cell_type": "code",
   "execution_count": 6,
   "metadata": {
    "cell_id": "00005-15542067-c1d0-4ef7-8002-a341c9096818",
    "deepnote_cell_height": 136.1875,
    "deepnote_cell_type": "code",
    "deepnote_output_heights": [
     21.1875
    ],
    "deepnote_to_be_reexecuted": false,
    "execution_millis": 2,
    "execution_start": 1650259860007,
    "source_hash": "57016fba"
   },
   "outputs": [
    {
     "data": {
      "text/plain": [
       "(11813, 17)"
      ]
     },
     "execution_count": 6,
     "metadata": {},
     "output_type": "execute_result"
    }
   ],
   "source": [
    "music = music.dropna()\n",
    "music.shape"
   ]
  },
  {
   "cell_type": "code",
   "execution_count": 7,
   "metadata": {
    "cell_id": "00006-f50eeb86-1cea-44fe-ba07-371560968d0b",
    "deepnote_cell_height": 615,
    "deepnote_cell_type": "code",
    "deepnote_to_be_reexecuted": false,
    "execution_millis": 439,
    "execution_start": 1650259860052,
    "source_hash": "7db40eda"
   },
   "outputs": [
    {
     "data": {
      "text/html": [
       "<div>\n",
       "<style scoped>\n",
       "    .dataframe tbody tr th:only-of-type {\n",
       "        vertical-align: middle;\n",
       "    }\n",
       "\n",
       "    .dataframe tbody tr th {\n",
       "        vertical-align: top;\n",
       "    }\n",
       "\n",
       "    .dataframe thead th {\n",
       "        text-align: right;\n",
       "    }\n",
       "</style>\n",
       "<table border=\"1\" class=\"dataframe\">\n",
       "  <thead>\n",
       "    <tr style=\"text-align: right;\">\n",
       "      <th></th>\n",
       "      <th>Artist Name</th>\n",
       "      <th>Track Name</th>\n",
       "      <th>Popularity</th>\n",
       "      <th>danceability</th>\n",
       "      <th>energy</th>\n",
       "      <th>key</th>\n",
       "      <th>loudness</th>\n",
       "      <th>mode</th>\n",
       "      <th>speechiness</th>\n",
       "      <th>acousticness</th>\n",
       "      <th>instrumentalness</th>\n",
       "      <th>liveness</th>\n",
       "      <th>valence</th>\n",
       "      <th>tempo</th>\n",
       "      <th>duration_in min/ms</th>\n",
       "      <th>time_signature</th>\n",
       "      <th>Class</th>\n",
       "    </tr>\n",
       "  </thead>\n",
       "  <tbody>\n",
       "    <tr>\n",
       "      <th>count</th>\n",
       "      <td>11813</td>\n",
       "      <td>11813</td>\n",
       "      <td>11813.000000</td>\n",
       "      <td>11813.000000</td>\n",
       "      <td>11813.000000</td>\n",
       "      <td>11813.000000</td>\n",
       "      <td>11813.000000</td>\n",
       "      <td>11813.000000</td>\n",
       "      <td>11813.000000</td>\n",
       "      <td>11813.000000</td>\n",
       "      <td>11813.000000</td>\n",
       "      <td>11813.000000</td>\n",
       "      <td>11813.000000</td>\n",
       "      <td>11813.000000</td>\n",
       "      <td>1.181300e+04</td>\n",
       "      <td>11813.000000</td>\n",
       "      <td>11813.000000</td>\n",
       "    </tr>\n",
       "    <tr>\n",
       "      <th>unique</th>\n",
       "      <td>6703</td>\n",
       "      <td>10002</td>\n",
       "      <td>NaN</td>\n",
       "      <td>NaN</td>\n",
       "      <td>NaN</td>\n",
       "      <td>NaN</td>\n",
       "      <td>NaN</td>\n",
       "      <td>NaN</td>\n",
       "      <td>NaN</td>\n",
       "      <td>NaN</td>\n",
       "      <td>NaN</td>\n",
       "      <td>NaN</td>\n",
       "      <td>NaN</td>\n",
       "      <td>NaN</td>\n",
       "      <td>NaN</td>\n",
       "      <td>NaN</td>\n",
       "      <td>NaN</td>\n",
       "    </tr>\n",
       "    <tr>\n",
       "      <th>top</th>\n",
       "      <td>The Rolling Stones</td>\n",
       "      <td>Fire</td>\n",
       "      <td>NaN</td>\n",
       "      <td>NaN</td>\n",
       "      <td>NaN</td>\n",
       "      <td>NaN</td>\n",
       "      <td>NaN</td>\n",
       "      <td>NaN</td>\n",
       "      <td>NaN</td>\n",
       "      <td>NaN</td>\n",
       "      <td>NaN</td>\n",
       "      <td>NaN</td>\n",
       "      <td>NaN</td>\n",
       "      <td>NaN</td>\n",
       "      <td>NaN</td>\n",
       "      <td>NaN</td>\n",
       "      <td>NaN</td>\n",
       "    </tr>\n",
       "    <tr>\n",
       "      <th>freq</th>\n",
       "      <td>30</td>\n",
       "      <td>8</td>\n",
       "      <td>NaN</td>\n",
       "      <td>NaN</td>\n",
       "      <td>NaN</td>\n",
       "      <td>NaN</td>\n",
       "      <td>NaN</td>\n",
       "      <td>NaN</td>\n",
       "      <td>NaN</td>\n",
       "      <td>NaN</td>\n",
       "      <td>NaN</td>\n",
       "      <td>NaN</td>\n",
       "      <td>NaN</td>\n",
       "      <td>NaN</td>\n",
       "      <td>NaN</td>\n",
       "      <td>NaN</td>\n",
       "      <td>NaN</td>\n",
       "    </tr>\n",
       "    <tr>\n",
       "      <th>mean</th>\n",
       "      <td>NaN</td>\n",
       "      <td>NaN</td>\n",
       "      <td>43.100652</td>\n",
       "      <td>0.524944</td>\n",
       "      <td>0.670305</td>\n",
       "      <td>5.972573</td>\n",
       "      <td>-8.215807</td>\n",
       "      <td>0.623974</td>\n",
       "      <td>0.071107</td>\n",
       "      <td>0.239968</td>\n",
       "      <td>0.178991</td>\n",
       "      <td>0.195096</td>\n",
       "      <td>0.470115</td>\n",
       "      <td>122.928641</td>\n",
       "      <td>2.129446e+05</td>\n",
       "      <td>3.913824</td>\n",
       "      <td>6.622619</td>\n",
       "    </tr>\n",
       "    <tr>\n",
       "      <th>std</th>\n",
       "      <td>NaN</td>\n",
       "      <td>NaN</td>\n",
       "      <td>16.568500</td>\n",
       "      <td>0.166013</td>\n",
       "      <td>0.242324</td>\n",
       "      <td>3.167348</td>\n",
       "      <td>4.239682</td>\n",
       "      <td>0.484407</td>\n",
       "      <td>0.067783</td>\n",
       "      <td>0.319142</td>\n",
       "      <td>0.303809</td>\n",
       "      <td>0.159743</td>\n",
       "      <td>0.244635</td>\n",
       "      <td>29.430883</td>\n",
       "      <td>1.158561e+05</td>\n",
       "      <td>0.381625</td>\n",
       "      <td>3.246656</td>\n",
       "    </tr>\n",
       "    <tr>\n",
       "      <th>min</th>\n",
       "      <td>NaN</td>\n",
       "      <td>NaN</td>\n",
       "      <td>1.000000</td>\n",
       "      <td>0.064400</td>\n",
       "      <td>0.000020</td>\n",
       "      <td>1.000000</td>\n",
       "      <td>-36.214000</td>\n",
       "      <td>0.000000</td>\n",
       "      <td>0.022500</td>\n",
       "      <td>0.000000</td>\n",
       "      <td>0.000001</td>\n",
       "      <td>0.011900</td>\n",
       "      <td>0.018300</td>\n",
       "      <td>30.557000</td>\n",
       "      <td>5.016500e-01</td>\n",
       "      <td>1.000000</td>\n",
       "      <td>0.000000</td>\n",
       "    </tr>\n",
       "    <tr>\n",
       "      <th>25%</th>\n",
       "      <td>NaN</td>\n",
       "      <td>NaN</td>\n",
       "      <td>32.000000</td>\n",
       "      <td>0.413000</td>\n",
       "      <td>0.513000</td>\n",
       "      <td>3.000000</td>\n",
       "      <td>-9.994000</td>\n",
       "      <td>0.000000</td>\n",
       "      <td>0.034600</td>\n",
       "      <td>0.001890</td>\n",
       "      <td>0.000096</td>\n",
       "      <td>0.096900</td>\n",
       "      <td>0.271000</td>\n",
       "      <td>100.001000</td>\n",
       "      <td>1.755330e+05</td>\n",
       "      <td>4.000000</td>\n",
       "      <td>5.000000</td>\n",
       "    </tr>\n",
       "    <tr>\n",
       "      <th>50%</th>\n",
       "      <td>NaN</td>\n",
       "      <td>NaN</td>\n",
       "      <td>42.000000</td>\n",
       "      <td>0.527000</td>\n",
       "      <td>0.716000</td>\n",
       "      <td>6.000000</td>\n",
       "      <td>-7.314000</td>\n",
       "      <td>1.000000</td>\n",
       "      <td>0.046300</td>\n",
       "      <td>0.056100</td>\n",
       "      <td>0.004290</td>\n",
       "      <td>0.127000</td>\n",
       "      <td>0.462000</td>\n",
       "      <td>120.046000</td>\n",
       "      <td>2.178830e+05</td>\n",
       "      <td>4.000000</td>\n",
       "      <td>8.000000</td>\n",
       "    </tr>\n",
       "    <tr>\n",
       "      <th>75%</th>\n",
       "      <td>NaN</td>\n",
       "      <td>NaN</td>\n",
       "      <td>54.000000</td>\n",
       "      <td>0.638000</td>\n",
       "      <td>0.875000</td>\n",
       "      <td>9.000000</td>\n",
       "      <td>-5.341000</td>\n",
       "      <td>1.000000</td>\n",
       "      <td>0.076500</td>\n",
       "      <td>0.421000</td>\n",
       "      <td>0.209000</td>\n",
       "      <td>0.256000</td>\n",
       "      <td>0.660000</td>\n",
       "      <td>141.877000</td>\n",
       "      <td>2.635870e+05</td>\n",
       "      <td>4.000000</td>\n",
       "      <td>10.000000</td>\n",
       "    </tr>\n",
       "    <tr>\n",
       "      <th>max</th>\n",
       "      <td>NaN</td>\n",
       "      <td>NaN</td>\n",
       "      <td>98.000000</td>\n",
       "      <td>0.989000</td>\n",
       "      <td>1.000000</td>\n",
       "      <td>11.000000</td>\n",
       "      <td>1.355000</td>\n",
       "      <td>1.000000</td>\n",
       "      <td>0.935000</td>\n",
       "      <td>0.996000</td>\n",
       "      <td>0.996000</td>\n",
       "      <td>0.992000</td>\n",
       "      <td>0.980000</td>\n",
       "      <td>217.416000</td>\n",
       "      <td>1.477187e+06</td>\n",
       "      <td>5.000000</td>\n",
       "      <td>10.000000</td>\n",
       "    </tr>\n",
       "  </tbody>\n",
       "</table>\n",
       "</div>"
      ],
      "text/plain": [
       "               Artist Name Track Name    Popularity  danceability  \\\n",
       "count                11813      11813  11813.000000  11813.000000   \n",
       "unique                6703      10002           NaN           NaN   \n",
       "top     The Rolling Stones       Fire           NaN           NaN   \n",
       "freq                    30          8           NaN           NaN   \n",
       "mean                   NaN        NaN     43.100652      0.524944   \n",
       "std                    NaN        NaN     16.568500      0.166013   \n",
       "min                    NaN        NaN      1.000000      0.064400   \n",
       "25%                    NaN        NaN     32.000000      0.413000   \n",
       "50%                    NaN        NaN     42.000000      0.527000   \n",
       "75%                    NaN        NaN     54.000000      0.638000   \n",
       "max                    NaN        NaN     98.000000      0.989000   \n",
       "\n",
       "              energy           key      loudness          mode   speechiness  \\\n",
       "count   11813.000000  11813.000000  11813.000000  11813.000000  11813.000000   \n",
       "unique           NaN           NaN           NaN           NaN           NaN   \n",
       "top              NaN           NaN           NaN           NaN           NaN   \n",
       "freq             NaN           NaN           NaN           NaN           NaN   \n",
       "mean        0.670305      5.972573     -8.215807      0.623974      0.071107   \n",
       "std         0.242324      3.167348      4.239682      0.484407      0.067783   \n",
       "min         0.000020      1.000000    -36.214000      0.000000      0.022500   \n",
       "25%         0.513000      3.000000     -9.994000      0.000000      0.034600   \n",
       "50%         0.716000      6.000000     -7.314000      1.000000      0.046300   \n",
       "75%         0.875000      9.000000     -5.341000      1.000000      0.076500   \n",
       "max         1.000000     11.000000      1.355000      1.000000      0.935000   \n",
       "\n",
       "        acousticness  instrumentalness      liveness       valence  \\\n",
       "count   11813.000000      11813.000000  11813.000000  11813.000000   \n",
       "unique           NaN               NaN           NaN           NaN   \n",
       "top              NaN               NaN           NaN           NaN   \n",
       "freq             NaN               NaN           NaN           NaN   \n",
       "mean        0.239968          0.178991      0.195096      0.470115   \n",
       "std         0.319142          0.303809      0.159743      0.244635   \n",
       "min         0.000000          0.000001      0.011900      0.018300   \n",
       "25%         0.001890          0.000096      0.096900      0.271000   \n",
       "50%         0.056100          0.004290      0.127000      0.462000   \n",
       "75%         0.421000          0.209000      0.256000      0.660000   \n",
       "max         0.996000          0.996000      0.992000      0.980000   \n",
       "\n",
       "               tempo  duration_in min/ms  time_signature         Class  \n",
       "count   11813.000000        1.181300e+04    11813.000000  11813.000000  \n",
       "unique           NaN                 NaN             NaN           NaN  \n",
       "top              NaN                 NaN             NaN           NaN  \n",
       "freq             NaN                 NaN             NaN           NaN  \n",
       "mean      122.928641        2.129446e+05        3.913824      6.622619  \n",
       "std        29.430883        1.158561e+05        0.381625      3.246656  \n",
       "min        30.557000        5.016500e-01        1.000000      0.000000  \n",
       "25%       100.001000        1.755330e+05        4.000000      5.000000  \n",
       "50%       120.046000        2.178830e+05        4.000000      8.000000  \n",
       "75%       141.877000        2.635870e+05        4.000000     10.000000  \n",
       "max       217.416000        1.477187e+06        5.000000     10.000000  "
      ]
     },
     "execution_count": 7,
     "metadata": {},
     "output_type": "execute_result"
    }
   ],
   "source": [
    "music.describe(include = 'all')"
   ]
  },
  {
   "cell_type": "code",
   "execution_count": 8,
   "metadata": {
    "cell_id": "00007-647db8a3-2655-404c-b851-1745a678af90",
    "deepnote_cell_height": 348.53125,
    "deepnote_cell_type": "code",
    "deepnote_output_heights": [
     251.53125
    ],
    "deepnote_to_be_reexecuted": false,
    "execution_millis": 703398,
    "execution_start": 1650259860509,
    "source_hash": "ff345919"
   },
   "outputs": [
    {
     "data": {
      "text/plain": [
       "Class\n",
       "0      386\n",
       "1     1037\n",
       "2      956\n",
       "3      270\n",
       "4      148\n",
       "5      517\n",
       "6     2039\n",
       "7      464\n",
       "8     1523\n",
       "9     1099\n",
       "10    3374\n",
       "dtype: int64"
      ]
     },
     "execution_count": 8,
     "metadata": {},
     "output_type": "execute_result"
    }
   ],
   "source": [
    "music.groupby('Class').size()"
   ]
  },
  {
   "cell_type": "code",
   "execution_count": 9,
   "metadata": {
    "cell_id": "9039abfbd2ba4b91b6dfef5a9e1186aa",
    "deepnote_cell_height": 1221.5625,
    "deepnote_cell_type": "code",
    "deepnote_output_heights": [
     548.5625,
     424.21875
    ],
    "deepnote_to_be_reexecuted": false,
    "execution_millis": 5937,
    "execution_start": 1650259872610,
    "source_hash": "225af01c",
    "tags": []
   },
   "outputs": [
    {
     "data": {
      "image/png": "[encoded data removed]",
      "text/plain": [
       "<Figure size 1440x1080 with 9 Axes>"
      ]
     },
     "metadata": {
      "needs_background": "light"
     },
     "output_type": "display_data"
    }
   ],
   "source": [
    "l = list(range(0,11))\n",
    "labels = ['Hiphop', 'Instrumental', 'Rock']\n",
    "music1 = music[music['Class'].isin(l)]\n",
    "\n",
    "fig, ax = plt.subplots(ncols = 3,nrows = 3, figsize=(20, 15))\n",
    "g = sns.boxplot(data = music1, x = 'Class', y='Popularity', ax = ax[0,0])\n",
    "g.set_title('Popularity')\n",
    "#g.set_xticklabels(labels)\n",
    "f = sns.boxplot(data = music1, x = 'Class', y='danceability', ax = ax[0,1])\n",
    "f.set_title('danceability')\n",
    "#f.set_xticklabels(labels)\n",
    "g = sns.boxplot(data = music1, x = 'Class', y='loudness', ax = ax[0,2])\n",
    "g.set_title('loudness')\n",
    "#g.set_xticklabels(labels)\n",
    "f = sns.boxplot(data = music1, x = 'Class', y='acousticness', ax = ax[1,0])\n",
    "f.set_title('acousticness')\n",
    "#f.set_xticklabels(labels)\n",
    "g = sns.boxplot(data = music1, x = 'Class', y='speechiness', ax = ax[1,1])\n",
    "g.set_title('speechiness')\n",
    "#g.set_xticklabels(labels)\n",
    "f = sns.boxplot(data = music1, x = 'Class', y='instrumentalness', ax = ax[1,2])\n",
    "f.set_title('instrumentalness')\n",
    "#f.set_xticklabels(labels)\n",
    "g = sns.boxplot(data = music1, x = 'Class', y='liveness', ax = ax[2,0])\n",
    "g.set_title('liveness')\n",
    "#g.set_xticklabels(labels)\n",
    "f = sns.boxplot(data = music1, x = 'Class', y='valence', ax = ax[2,1])\n",
    "f.set_title('valence')\n",
    "#f.set_xticklabels(labels)\n",
    "f = sns.boxplot(data = music1, x = 'Class', y='tempo', ax = ax[2,2])\n",
    "f.set_title('tempo')\n",
    "#f.set_xticklabels(labels)\n",
    "plt.show()"
   ]
  },
  {
   "cell_type": "code",
   "execution_count": 10,
   "metadata": {
    "cell_id": "73756cc8da284b529269d985be42cccf",
    "deepnote_cell_height": 194.96875,
    "deepnote_cell_type": "code",
    "deepnote_output_heights": [
     97.96875
    ],
    "deepnote_to_be_reexecuted": false,
    "execution_millis": 16,
    "execution_start": 1650259878545,
    "source_hash": "2086d532",
    "tags": []
   },
   "outputs": [
    {
     "data": {
      "text/plain": [
       "Index(['Artist Name', 'Track Name', 'Popularity', 'danceability', 'energy',\n",
       "       'key', 'loudness', 'mode', 'speechiness', 'acousticness',\n",
       "       'instrumentalness', 'liveness', 'valence', 'tempo',\n",
       "       'duration_in min/ms', 'time_signature', 'Class'],\n",
       "      dtype='object')"
      ]
     },
     "execution_count": 10,
     "metadata": {},
     "output_type": "execute_result"
    }
   ],
   "source": [
    "music1.columns"
   ]
  },
  {
   "cell_type": "code",
   "execution_count": 11,
   "metadata": {
    "cell_id": "0529d11d96a042229cc66a6d41072657",
    "deepnote_cell_height": 329.34375,
    "deepnote_cell_type": "code",
    "deepnote_output_heights": [
     232.34375
    ],
    "deepnote_to_be_reexecuted": false,
    "execution_millis": 31,
    "execution_start": 1650259878571,
    "source_hash": "80142888",
    "tags": []
   },
   "outputs": [
    {
     "data": {
      "text/plain": [
       "1        10\n",
       "2         6\n",
       "4        10\n",
       "5         6\n",
       "6         2\n",
       "         ..\n",
       "17991     6\n",
       "17992     2\n",
       "17993     8\n",
       "17994     8\n",
       "17995    10\n",
       "Name: Class, Length: 11813, dtype: int64"
      ]
     },
     "execution_count": 11,
     "metadata": {},
     "output_type": "execute_result"
    }
   ],
   "source": [
    "music1.Class"
   ]
  },
  {
   "cell_type": "code",
   "execution_count": 12,
   "metadata": {
    "cell_id": "a2011979f1fd40f39759e6b84451ff63",
    "deepnote_cell_height": 1091.25,
    "deepnote_cell_type": "code",
    "deepnote_output_heights": [
     472.25
    ],
    "deepnote_to_be_reexecuted": false,
    "execution_millis": 2591,
    "execution_start": 1650259163630,
    "source_hash": "4974ce81",
    "tags": []
   },
   "outputs": [
    {
     "data": {
      "image/png": "[encoded data removed]",
      "text/plain": [
       "<Figure size 1440x1080 with 6 Axes>"
      ]
     },
     "metadata": {
      "needs_background": "light"
     },
     "output_type": "display_data"
    }
   ],
   "source": [
    "l = [5, 7, 10]\n",
    "labels = ['Hiphop', 'Instrumental', 'Rock']\n",
    "music1 = music[music['Class'].isin(l)]\n",
    "\n",
    "fig, ax = plt.subplots(ncols = 3,nrows = 2, figsize=(20, 15))\n",
    "f = sns.boxplot(data = music1, x = 'Class', y='duration_in min/ms', ax = ax[0,0])\n",
    "f.set_title('duration_in min/ms')\n",
    "f.set_xticklabels(labels)\n",
    "\n",
    "g = sns.boxplot(data = music1, x = 'Class', y='loudness', ax = ax[0,1])\n",
    "g.set_title('loudness')\n",
    "g.set_xticklabels(labels)\n",
    "\n",
    "f = sns.boxplot(data = music1, x = 'Class', y='acousticness', ax = ax[1,0])\n",
    "f.set_title('acousticness')\n",
    "f.set_xticklabels(labels)\n",
    "\n",
    "g = sns.boxplot(data = music1, x = 'Class', y='speechiness', ax = ax[1,1])\n",
    "g.set_title('speechiness')\n",
    "g.set_xticklabels(labels)\n",
    "\n",
    "f = sns.boxplot(data = music1, x = 'Class', y='instrumentalness', ax = ax[1,2])\n",
    "f.set_title('instrumentalness')\n",
    "f.set_xticklabels(labels)\n",
    "\n",
    "f = sns.boxplot(data = music1, x = 'Class', y='valence', ax = ax[0,2])\n",
    "f.set_title('valence')\n",
    "f.set_xticklabels(labels)\n",
    "\n",
    "plt.show()"
   ]
  },
  {
   "cell_type": "code",
   "execution_count": 13,
   "metadata": {
    "cell_id": "00008-41e803d9-447b-4097-b70d-fbf2fe5a603f",
    "deepnote_cell_height": 207,
    "deepnote_cell_type": "code",
    "deepnote_to_be_reexecuted": false,
    "execution_millis": 33,
    "execution_start": 1650259166230,
    "source_hash": "a4e996ce"
   },
   "outputs": [],
   "source": [
    "music.loc[music.Class == 10, 'class'] = 0 # Rock Music\n",
    "music.loc[music.Class == 7, 'class'] = 1 # Instrumental Music Genre\n",
    "music.loc[music.Class == 5, 'class'] = 2 # HipHop Music Genre\n",
    "# music.loc[music.Class == 9, 'class'] = 1 # Pop\n",
    "# music.loc[music.Class == 8, 'class'] = 2 # Metal Music Genre\n",
    "# music1_scale.loc[music1_scale.Class == 9, 'class'] = 3\n",
    "# music1_scale.loc[music1_scale.Class == 1, 'class'] = 4\n",
    "# music1_scale['class'].fillna(3,inplace = True)"
   ]
  },
  {
   "cell_type": "code",
   "execution_count": 14,
   "metadata": {
    "cell_id": "00009-dff669e2-7639-47ff-b3bb-0af6ca5d3210",
    "deepnote_cell_height": 154.1875,
    "deepnote_cell_type": "code",
    "deepnote_output_heights": [
     21.1875
    ],
    "deepnote_to_be_reexecuted": false,
    "execution_millis": 51,
    "execution_start": 1650259166276,
    "source_hash": "35040fd3"
   },
   "outputs": [
    {
     "data": {
      "text/plain": [
       "4355"
      ]
     },
     "execution_count": 14,
     "metadata": {},
     "output_type": "execute_result"
    }
   ],
   "source": [
    "music = music.dropna()\n",
    "music = music.drop('Class', axis=1)\n",
    "len(music)"
   ]
  },
  {
   "cell_type": "code",
   "execution_count": 15,
   "metadata": {
    "cell_id": "a6e46fe3f0574c9a8b3db352d9e8ce3a",
    "deepnote_cell_height": 410,
    "deepnote_cell_type": "code",
    "deepnote_to_be_reexecuted": false,
    "execution_millis": 253,
    "execution_start": 1650259166339,
    "source_hash": "6f5da834",
    "tags": []
   },
   "outputs": [
    {
     "data": {
      "text/html": [
       "<div>\n",
       "<style scoped>\n",
       "    .dataframe tbody tr th:only-of-type {\n",
       "        vertical-align: middle;\n",
       "    }\n",
       "\n",
       "    .dataframe tbody tr th {\n",
       "        vertical-align: top;\n",
       "    }\n",
       "\n",
       "    .dataframe thead th {\n",
       "        text-align: right;\n",
       "    }\n",
       "</style>\n",
       "<table border=\"1\" class=\"dataframe\">\n",
       "  <thead>\n",
       "    <tr style=\"text-align: right;\">\n",
       "      <th></th>\n",
       "      <th>Artist Name</th>\n",
       "      <th>Track Name</th>\n",
       "      <th>Popularity</th>\n",
       "      <th>danceability</th>\n",
       "      <th>energy</th>\n",
       "      <th>key</th>\n",
       "      <th>loudness</th>\n",
       "      <th>mode</th>\n",
       "      <th>speechiness</th>\n",
       "      <th>acousticness</th>\n",
       "      <th>instrumentalness</th>\n",
       "      <th>liveness</th>\n",
       "      <th>valence</th>\n",
       "      <th>tempo</th>\n",
       "      <th>duration_in min/ms</th>\n",
       "      <th>time_signature</th>\n",
       "      <th>class</th>\n",
       "    </tr>\n",
       "  </thead>\n",
       "  <tbody>\n",
       "    <tr>\n",
       "      <th>1</th>\n",
       "      <td>Boston</td>\n",
       "      <td>Hitch a Ride</td>\n",
       "      <td>54.0</td>\n",
       "      <td>0.382</td>\n",
       "      <td>0.814</td>\n",
       "      <td>3.0</td>\n",
       "      <td>-7.230</td>\n",
       "      <td>1</td>\n",
       "      <td>0.0406</td>\n",
       "      <td>0.001100</td>\n",
       "      <td>0.00401</td>\n",
       "      <td>0.101</td>\n",
       "      <td>0.5690</td>\n",
       "      <td>116.454</td>\n",
       "      <td>251733.00000</td>\n",
       "      <td>4</td>\n",
       "      <td>0.0</td>\n",
       "    </tr>\n",
       "    <tr>\n",
       "      <th>4</th>\n",
       "      <td>Red Hot Chili Peppers</td>\n",
       "      <td>Nobody Weird Like Me - Remastered</td>\n",
       "      <td>53.0</td>\n",
       "      <td>0.167</td>\n",
       "      <td>0.975</td>\n",
       "      <td>2.0</td>\n",
       "      <td>-4.279</td>\n",
       "      <td>1</td>\n",
       "      <td>0.2160</td>\n",
       "      <td>0.000169</td>\n",
       "      <td>0.01610</td>\n",
       "      <td>0.172</td>\n",
       "      <td>0.0918</td>\n",
       "      <td>199.060</td>\n",
       "      <td>229960.00000</td>\n",
       "      <td>4</td>\n",
       "      <td>0.0</td>\n",
       "    </tr>\n",
       "    <tr>\n",
       "      <th>13</th>\n",
       "      <td>Harald Lassen, Bram de Looze</td>\n",
       "      <td>How it feels pt. 2</td>\n",
       "      <td>34.0</td>\n",
       "      <td>0.462</td>\n",
       "      <td>0.374</td>\n",
       "      <td>11.0</td>\n",
       "      <td>-12.069</td>\n",
       "      <td>0</td>\n",
       "      <td>0.0331</td>\n",
       "      <td>0.949000</td>\n",
       "      <td>0.92900</td>\n",
       "      <td>0.131</td>\n",
       "      <td>0.1740</td>\n",
       "      <td>122.939</td>\n",
       "      <td>4.44025</td>\n",
       "      <td>3</td>\n",
       "      <td>1.0</td>\n",
       "    </tr>\n",
       "    <tr>\n",
       "      <th>14</th>\n",
       "      <td>Buffalo Springfield</td>\n",
       "      <td>For What It's Worth</td>\n",
       "      <td>76.0</td>\n",
       "      <td>0.653</td>\n",
       "      <td>0.519</td>\n",
       "      <td>2.0</td>\n",
       "      <td>-10.164</td>\n",
       "      <td>1</td>\n",
       "      <td>0.0497</td>\n",
       "      <td>0.406000</td>\n",
       "      <td>0.02090</td>\n",
       "      <td>0.101</td>\n",
       "      <td>0.8220</td>\n",
       "      <td>98.883</td>\n",
       "      <td>153693.00000</td>\n",
       "      <td>4</td>\n",
       "      <td>0.0</td>\n",
       "    </tr>\n",
       "    <tr>\n",
       "      <th>17</th>\n",
       "      <td>Velvet Two Stripes</td>\n",
       "      <td>Drinks</td>\n",
       "      <td>31.0</td>\n",
       "      <td>0.564</td>\n",
       "      <td>0.801</td>\n",
       "      <td>1.0</td>\n",
       "      <td>-4.730</td>\n",
       "      <td>0</td>\n",
       "      <td>0.0473</td>\n",
       "      <td>0.002330</td>\n",
       "      <td>0.00780</td>\n",
       "      <td>0.067</td>\n",
       "      <td>0.4010</td>\n",
       "      <td>105.010</td>\n",
       "      <td>154293.00000</td>\n",
       "      <td>4</td>\n",
       "      <td>0.0</td>\n",
       "    </tr>\n",
       "  </tbody>\n",
       "</table>\n",
       "</div>"
      ],
      "text/plain": [
       "                     Artist Name                         Track Name  \\\n",
       "1                         Boston                       Hitch a Ride   \n",
       "4          Red Hot Chili Peppers  Nobody Weird Like Me - Remastered   \n",
       "13  Harald Lassen, Bram de Looze                 How it feels pt. 2   \n",
       "14           Buffalo Springfield                For What It's Worth   \n",
       "17            Velvet Two Stripes                             Drinks   \n",
       "\n",
       "    Popularity  danceability  energy   key  loudness  mode  speechiness  \\\n",
       "1         54.0         0.382   0.814   3.0    -7.230     1       0.0406   \n",
       "4         53.0         0.167   0.975   2.0    -4.279     1       0.2160   \n",
       "13        34.0         0.462   0.374  11.0   -12.069     0       0.0331   \n",
       "14        76.0         0.653   0.519   2.0   -10.164     1       0.0497   \n",
       "17        31.0         0.564   0.801   1.0    -4.730     0       0.0473   \n",
       "\n",
       "    acousticness  instrumentalness  liveness  valence    tempo  \\\n",
       "1       0.001100           0.00401     0.101   0.5690  116.454   \n",
       "4       0.000169           0.01610     0.172   0.0918  199.060   \n",
       "13      0.949000           0.92900     0.131   0.1740  122.939   \n",
       "14      0.406000           0.02090     0.101   0.8220   98.883   \n",
       "17      0.002330           0.00780     0.067   0.4010  105.010   \n",
       "\n",
       "    duration_in min/ms  time_signature  class  \n",
       "1         251733.00000               4    0.0  \n",
       "4         229960.00000               4    0.0  \n",
       "13             4.44025               3    1.0  \n",
       "14        153693.00000               4    0.0  \n",
       "17        154293.00000               4    0.0  "
      ]
     },
     "execution_count": 15,
     "metadata": {},
     "output_type": "execute_result"
    }
   ],
   "source": [
    "music.head()"
   ]
  },
  {
   "cell_type": "code",
   "execution_count": 16,
   "metadata": {
    "cell_id": "9d72899324ac4febbf4ae445b28edf61",
    "deepnote_cell_height": 533,
    "deepnote_cell_type": "code",
    "deepnote_to_be_reexecuted": false,
    "execution_millis": 671,
    "execution_start": 1650259166614,
    "source_hash": "5dd17183",
    "tags": []
   },
   "outputs": [
    {
     "data": {
      "text/html": [
       "<div>\n",
       "<style scoped>\n",
       "    .dataframe tbody tr th:only-of-type {\n",
       "        vertical-align: middle;\n",
       "    }\n",
       "\n",
       "    .dataframe tbody tr th {\n",
       "        vertical-align: top;\n",
       "    }\n",
       "\n",
       "    .dataframe thead th {\n",
       "        text-align: right;\n",
       "    }\n",
       "</style>\n",
       "<table border=\"1\" class=\"dataframe\">\n",
       "  <thead>\n",
       "    <tr style=\"text-align: right;\">\n",
       "      <th></th>\n",
       "      <th>Popularity</th>\n",
       "      <th>danceability</th>\n",
       "      <th>energy</th>\n",
       "      <th>key</th>\n",
       "      <th>loudness</th>\n",
       "      <th>mode</th>\n",
       "      <th>speechiness</th>\n",
       "      <th>acousticness</th>\n",
       "      <th>instrumentalness</th>\n",
       "      <th>liveness</th>\n",
       "      <th>valence</th>\n",
       "      <th>tempo</th>\n",
       "      <th>duration_in min/ms</th>\n",
       "      <th>time_signature</th>\n",
       "      <th>class</th>\n",
       "    </tr>\n",
       "  </thead>\n",
       "  <tbody>\n",
       "    <tr>\n",
       "      <th>count</th>\n",
       "      <td>4355.000000</td>\n",
       "      <td>4355.000000</td>\n",
       "      <td>4355.000000</td>\n",
       "      <td>4355.00000</td>\n",
       "      <td>4355.000000</td>\n",
       "      <td>4355.000000</td>\n",
       "      <td>4355.000000</td>\n",
       "      <td>4355.000000</td>\n",
       "      <td>4355.000000</td>\n",
       "      <td>4355.000000</td>\n",
       "      <td>4355.000000</td>\n",
       "      <td>4355.000000</td>\n",
       "      <td>4.355000e+03</td>\n",
       "      <td>4355.000000</td>\n",
       "      <td>4355.000000</td>\n",
       "    </tr>\n",
       "    <tr>\n",
       "      <th>mean</th>\n",
       "      <td>45.581630</td>\n",
       "      <td>0.513595</td>\n",
       "      <td>0.663090</td>\n",
       "      <td>5.92147</td>\n",
       "      <td>-8.583677</td>\n",
       "      <td>0.627325</td>\n",
       "      <td>0.073866</td>\n",
       "      <td>0.225161</td>\n",
       "      <td>0.175018</td>\n",
       "      <td>0.194848</td>\n",
       "      <td>0.462824</td>\n",
       "      <td>122.636949</td>\n",
       "      <td>2.143531e+05</td>\n",
       "      <td>3.919173</td>\n",
       "      <td>0.343972</td>\n",
       "    </tr>\n",
       "    <tr>\n",
       "      <th>std</th>\n",
       "      <td>16.274769</td>\n",
       "      <td>0.166237</td>\n",
       "      <td>0.257625</td>\n",
       "      <td>3.16486</td>\n",
       "      <td>4.949768</td>\n",
       "      <td>0.483572</td>\n",
       "      <td>0.075667</td>\n",
       "      <td>0.322621</td>\n",
       "      <td>0.308502</td>\n",
       "      <td>0.163036</td>\n",
       "      <td>0.240305</td>\n",
       "      <td>29.957100</td>\n",
       "      <td>1.230677e+05</td>\n",
       "      <td>0.378435</td>\n",
       "      <td>0.680581</td>\n",
       "    </tr>\n",
       "    <tr>\n",
       "      <th>min</th>\n",
       "      <td>1.000000</td>\n",
       "      <td>0.064400</td>\n",
       "      <td>0.005730</td>\n",
       "      <td>1.00000</td>\n",
       "      <td>-36.214000</td>\n",
       "      <td>0.000000</td>\n",
       "      <td>0.022500</td>\n",
       "      <td>0.000001</td>\n",
       "      <td>0.000001</td>\n",
       "      <td>0.011900</td>\n",
       "      <td>0.030800</td>\n",
       "      <td>30.557000</td>\n",
       "      <td>9.871167e-01</td>\n",
       "      <td>1.000000</td>\n",
       "      <td>0.000000</td>\n",
       "    </tr>\n",
       "    <tr>\n",
       "      <th>25%</th>\n",
       "      <td>34.000000</td>\n",
       "      <td>0.403000</td>\n",
       "      <td>0.517000</td>\n",
       "      <td>3.00000</td>\n",
       "      <td>-10.326000</td>\n",
       "      <td>0.000000</td>\n",
       "      <td>0.034600</td>\n",
       "      <td>0.001855</td>\n",
       "      <td>0.000067</td>\n",
       "      <td>0.095000</td>\n",
       "      <td>0.267000</td>\n",
       "      <td>98.797000</td>\n",
       "      <td>1.763395e+05</td>\n",
       "      <td>4.000000</td>\n",
       "      <td>0.000000</td>\n",
       "    </tr>\n",
       "    <tr>\n",
       "      <th>50%</th>\n",
       "      <td>45.000000</td>\n",
       "      <td>0.511000</td>\n",
       "      <td>0.727000</td>\n",
       "      <td>6.00000</td>\n",
       "      <td>-7.261000</td>\n",
       "      <td>1.000000</td>\n",
       "      <td>0.045900</td>\n",
       "      <td>0.039200</td>\n",
       "      <td>0.002600</td>\n",
       "      <td>0.125000</td>\n",
       "      <td>0.450000</td>\n",
       "      <td>120.014000</td>\n",
       "      <td>2.197570e+05</td>\n",
       "      <td>4.000000</td>\n",
       "      <td>0.000000</td>\n",
       "    </tr>\n",
       "    <tr>\n",
       "      <th>75%</th>\n",
       "      <td>57.000000</td>\n",
       "      <td>0.618000</td>\n",
       "      <td>0.872500</td>\n",
       "      <td>9.00000</td>\n",
       "      <td>-5.239000</td>\n",
       "      <td>1.000000</td>\n",
       "      <td>0.075350</td>\n",
       "      <td>0.344500</td>\n",
       "      <td>0.168500</td>\n",
       "      <td>0.254000</td>\n",
       "      <td>0.644000</td>\n",
       "      <td>142.433000</td>\n",
       "      <td>2.647335e+05</td>\n",
       "      <td>4.000000</td>\n",
       "      <td>0.000000</td>\n",
       "    </tr>\n",
       "    <tr>\n",
       "      <th>max</th>\n",
       "      <td>98.000000</td>\n",
       "      <td>0.989000</td>\n",
       "      <td>0.999000</td>\n",
       "      <td>11.00000</td>\n",
       "      <td>1.355000</td>\n",
       "      <td>1.000000</td>\n",
       "      <td>0.935000</td>\n",
       "      <td>0.996000</td>\n",
       "      <td>0.987000</td>\n",
       "      <td>0.992000</td>\n",
       "      <td>0.980000</td>\n",
       "      <td>216.020000</td>\n",
       "      <td>1.477187e+06</td>\n",
       "      <td>5.000000</td>\n",
       "      <td>2.000000</td>\n",
       "    </tr>\n",
       "  </tbody>\n",
       "</table>\n",
       "</div>"
      ],
      "text/plain": [
       "        Popularity  danceability       energy         key     loudness  \\\n",
       "count  4355.000000   4355.000000  4355.000000  4355.00000  4355.000000   \n",
       "mean     45.581630      0.513595     0.663090     5.92147    -8.583677   \n",
       "std      16.274769      0.166237     0.257625     3.16486     4.949768   \n",
       "min       1.000000      0.064400     0.005730     1.00000   -36.214000   \n",
       "25%      34.000000      0.403000     0.517000     3.00000   -10.326000   \n",
       "50%      45.000000      0.511000     0.727000     6.00000    -7.261000   \n",
       "75%      57.000000      0.618000     0.872500     9.00000    -5.239000   \n",
       "max      98.000000      0.989000     0.999000    11.00000     1.355000   \n",
       "\n",
       "              mode  speechiness  acousticness  instrumentalness     liveness  \\\n",
       "count  4355.000000  4355.000000   4355.000000       4355.000000  4355.000000   \n",
       "mean      0.627325     0.073866      0.225161          0.175018     0.194848   \n",
       "std       0.483572     0.075667      0.322621          0.308502     0.163036   \n",
       "min       0.000000     0.022500      0.000001          0.000001     0.011900   \n",
       "25%       0.000000     0.034600      0.001855          0.000067     0.095000   \n",
       "50%       1.000000     0.045900      0.039200          0.002600     0.125000   \n",
       "75%       1.000000     0.075350      0.344500          0.168500     0.254000   \n",
       "max       1.000000     0.935000      0.996000          0.987000     0.992000   \n",
       "\n",
       "           valence        tempo  duration_in min/ms  time_signature  \\\n",
       "count  4355.000000  4355.000000        4.355000e+03     4355.000000   \n",
       "mean      0.462824   122.636949        2.143531e+05        3.919173   \n",
       "std       0.240305    29.957100        1.230677e+05        0.378435   \n",
       "min       0.030800    30.557000        9.871167e-01        1.000000   \n",
       "25%       0.267000    98.797000        1.763395e+05        4.000000   \n",
       "50%       0.450000   120.014000        2.197570e+05        4.000000   \n",
       "75%       0.644000   142.433000        2.647335e+05        4.000000   \n",
       "max       0.980000   216.020000        1.477187e+06        5.000000   \n",
       "\n",
       "             class  \n",
       "count  4355.000000  \n",
       "mean      0.343972  \n",
       "std       0.680581  \n",
       "min       0.000000  \n",
       "25%       0.000000  \n",
       "50%       0.000000  \n",
       "75%       0.000000  \n",
       "max       2.000000  "
      ]
     },
     "execution_count": 16,
     "metadata": {},
     "output_type": "execute_result"
    }
   ],
   "source": [
    "music.describe()"
   ]
  },
  {
   "cell_type": "code",
   "execution_count": 17,
   "metadata": {
    "cell_id": "00010-0ab1d12f-afd2-4045-b145-63336aa51124",
    "deepnote_cell_height": 212.96875,
    "deepnote_cell_type": "code",
    "deepnote_output_heights": [
     97.96875
    ],
    "deepnote_to_be_reexecuted": false,
    "execution_millis": 2,
    "execution_start": 1650259175939,
    "source_hash": "2859cfd7"
   },
   "outputs": [
    {
     "data": {
      "text/plain": [
       "class\n",
       "0.0    3374\n",
       "1.0     464\n",
       "2.0     517\n",
       "dtype: int64"
      ]
     },
     "execution_count": 17,
     "metadata": {},
     "output_type": "execute_result"
    }
   ],
   "source": [
    "music.groupby('class').size()"
   ]
  },
  {
   "cell_type": "code",
   "execution_count": 18,
   "metadata": {
    "cell_id": "00011-f954343f-f9fc-44d9-85ec-fa4f520f333e",
    "deepnote_cell_height": 413,
    "deepnote_cell_type": "code",
    "deepnote_to_be_reexecuted": false,
    "execution_millis": 103,
    "execution_start": 1650259175943,
    "source_hash": "3e0b9bef"
   },
   "outputs": [
    {
     "data": {
      "text/html": [
       "<div>\n",
       "<style scoped>\n",
       "    .dataframe tbody tr th:only-of-type {\n",
       "        vertical-align: middle;\n",
       "    }\n",
       "\n",
       "    .dataframe tbody tr th {\n",
       "        vertical-align: top;\n",
       "    }\n",
       "\n",
       "    .dataframe thead th {\n",
       "        text-align: right;\n",
       "    }\n",
       "</style>\n",
       "<table border=\"1\" class=\"dataframe\">\n",
       "  <thead>\n",
       "    <tr style=\"text-align: right;\">\n",
       "      <th></th>\n",
       "      <th>key</th>\n",
       "      <th>mode</th>\n",
       "      <th>time_signature</th>\n",
       "      <th>class</th>\n",
       "    </tr>\n",
       "  </thead>\n",
       "  <tbody>\n",
       "    <tr>\n",
       "      <th>1</th>\n",
       "      <td>3.0</td>\n",
       "      <td>1</td>\n",
       "      <td>4</td>\n",
       "      <td>0.0</td>\n",
       "    </tr>\n",
       "    <tr>\n",
       "      <th>4</th>\n",
       "      <td>2.0</td>\n",
       "      <td>1</td>\n",
       "      <td>4</td>\n",
       "      <td>0.0</td>\n",
       "    </tr>\n",
       "    <tr>\n",
       "      <th>13</th>\n",
       "      <td>11.0</td>\n",
       "      <td>0</td>\n",
       "      <td>3</td>\n",
       "      <td>1.0</td>\n",
       "    </tr>\n",
       "    <tr>\n",
       "      <th>14</th>\n",
       "      <td>2.0</td>\n",
       "      <td>1</td>\n",
       "      <td>4</td>\n",
       "      <td>0.0</td>\n",
       "    </tr>\n",
       "    <tr>\n",
       "      <th>17</th>\n",
       "      <td>1.0</td>\n",
       "      <td>0</td>\n",
       "      <td>4</td>\n",
       "      <td>0.0</td>\n",
       "    </tr>\n",
       "  </tbody>\n",
       "</table>\n",
       "</div>"
      ],
      "text/plain": [
       "     key  mode  time_signature  class\n",
       "1    3.0     1               4    0.0\n",
       "4    2.0     1               4    0.0\n",
       "13  11.0     0               3    1.0\n",
       "14   2.0     1               4    0.0\n",
       "17   1.0     0               4    0.0"
      ]
     },
     "execution_count": 18,
     "metadata": {},
     "output_type": "execute_result"
    }
   ],
   "source": [
    "music_cate = music[['key', 'mode', 'time_signature', 'class']]\n",
    "music_cate.head()"
   ]
  },
  {
   "cell_type": "code",
   "execution_count": 19,
   "metadata": {
    "cell_id": "00012-853e5059-99ad-4d0e-8622-f2ac55ac9b14",
    "deepnote_cell_height": 428,
    "deepnote_cell_type": "code",
    "deepnote_to_be_reexecuted": false,
    "execution_millis": 199,
    "execution_start": 1650259176057,
    "source_hash": "b22634ff"
   },
   "outputs": [
    {
     "data": {
      "text/html": [
       "<div>\n",
       "<style scoped>\n",
       "    .dataframe tbody tr th:only-of-type {\n",
       "        vertical-align: middle;\n",
       "    }\n",
       "\n",
       "    .dataframe tbody tr th {\n",
       "        vertical-align: top;\n",
       "    }\n",
       "\n",
       "    .dataframe thead th {\n",
       "        text-align: right;\n",
       "    }\n",
       "</style>\n",
       "<table border=\"1\" class=\"dataframe\">\n",
       "  <thead>\n",
       "    <tr style=\"text-align: right;\">\n",
       "      <th></th>\n",
       "      <th>Popularity</th>\n",
       "      <th>danceability</th>\n",
       "      <th>energy</th>\n",
       "      <th>loudness</th>\n",
       "      <th>speechiness</th>\n",
       "      <th>acousticness</th>\n",
       "      <th>instrumentalness</th>\n",
       "      <th>liveness</th>\n",
       "      <th>valence</th>\n",
       "      <th>tempo</th>\n",
       "      <th>duration_in min/ms</th>\n",
       "    </tr>\n",
       "  </thead>\n",
       "  <tbody>\n",
       "    <tr>\n",
       "      <th>1</th>\n",
       "      <td>54.0</td>\n",
       "      <td>0.382</td>\n",
       "      <td>0.814</td>\n",
       "      <td>-7.230</td>\n",
       "      <td>0.0406</td>\n",
       "      <td>0.001100</td>\n",
       "      <td>0.00401</td>\n",
       "      <td>0.101</td>\n",
       "      <td>0.5690</td>\n",
       "      <td>116.454</td>\n",
       "      <td>251733.00000</td>\n",
       "    </tr>\n",
       "    <tr>\n",
       "      <th>4</th>\n",
       "      <td>53.0</td>\n",
       "      <td>0.167</td>\n",
       "      <td>0.975</td>\n",
       "      <td>-4.279</td>\n",
       "      <td>0.2160</td>\n",
       "      <td>0.000169</td>\n",
       "      <td>0.01610</td>\n",
       "      <td>0.172</td>\n",
       "      <td>0.0918</td>\n",
       "      <td>199.060</td>\n",
       "      <td>229960.00000</td>\n",
       "    </tr>\n",
       "    <tr>\n",
       "      <th>13</th>\n",
       "      <td>34.0</td>\n",
       "      <td>0.462</td>\n",
       "      <td>0.374</td>\n",
       "      <td>-12.069</td>\n",
       "      <td>0.0331</td>\n",
       "      <td>0.949000</td>\n",
       "      <td>0.92900</td>\n",
       "      <td>0.131</td>\n",
       "      <td>0.1740</td>\n",
       "      <td>122.939</td>\n",
       "      <td>4.44025</td>\n",
       "    </tr>\n",
       "    <tr>\n",
       "      <th>14</th>\n",
       "      <td>76.0</td>\n",
       "      <td>0.653</td>\n",
       "      <td>0.519</td>\n",
       "      <td>-10.164</td>\n",
       "      <td>0.0497</td>\n",
       "      <td>0.406000</td>\n",
       "      <td>0.02090</td>\n",
       "      <td>0.101</td>\n",
       "      <td>0.8220</td>\n",
       "      <td>98.883</td>\n",
       "      <td>153693.00000</td>\n",
       "    </tr>\n",
       "    <tr>\n",
       "      <th>17</th>\n",
       "      <td>31.0</td>\n",
       "      <td>0.564</td>\n",
       "      <td>0.801</td>\n",
       "      <td>-4.730</td>\n",
       "      <td>0.0473</td>\n",
       "      <td>0.002330</td>\n",
       "      <td>0.00780</td>\n",
       "      <td>0.067</td>\n",
       "      <td>0.4010</td>\n",
       "      <td>105.010</td>\n",
       "      <td>154293.00000</td>\n",
       "    </tr>\n",
       "  </tbody>\n",
       "</table>\n",
       "</div>"
      ],
      "text/plain": [
       "    Popularity  danceability  energy  loudness  speechiness  acousticness  \\\n",
       "1         54.0         0.382   0.814    -7.230       0.0406      0.001100   \n",
       "4         53.0         0.167   0.975    -4.279       0.2160      0.000169   \n",
       "13        34.0         0.462   0.374   -12.069       0.0331      0.949000   \n",
       "14        76.0         0.653   0.519   -10.164       0.0497      0.406000   \n",
       "17        31.0         0.564   0.801    -4.730       0.0473      0.002330   \n",
       "\n",
       "    instrumentalness  liveness  valence    tempo  duration_in min/ms  \n",
       "1            0.00401     0.101   0.5690  116.454        251733.00000  \n",
       "4            0.01610     0.172   0.0918  199.060        229960.00000  \n",
       "13           0.92900     0.131   0.1740  122.939             4.44025  \n",
       "14           0.02090     0.101   0.8220   98.883        153693.00000  \n",
       "17           0.00780     0.067   0.4010  105.010        154293.00000  "
      ]
     },
     "execution_count": 19,
     "metadata": {},
     "output_type": "execute_result"
    }
   ],
   "source": [
    "music1 = music.drop(columns=['Artist Name','Track Name','mode','class','time_signature','key'])\n",
    "music1.head()"
   ]
  },
  {
   "cell_type": "code",
   "execution_count": 20,
   "metadata": {
    "cell_id": "00013-c6380577-e20f-4e69-aeb8-f0615cefcaee",
    "deepnote_cell_height": 117,
    "deepnote_cell_type": "code",
    "deepnote_to_be_reexecuted": false,
    "execution_millis": 434,
    "execution_start": 1650259176267,
    "source_hash": "becbba35"
   },
   "outputs": [],
   "source": [
    "from sklearn.preprocessing import StandardScaler\n",
    "sc = StandardScaler()\n",
    "music1_scale = pd.DataFrame(sc.fit_transform(music1), columns=music1.columns)"
   ]
  },
  {
   "cell_type": "code",
   "execution_count": 21,
   "metadata": {
    "cell_id": "00014-8ccadc6a-7f4c-43b7-b252-e5599c6238db",
    "deepnote_cell_height": 81,
    "deepnote_cell_type": "code",
    "deepnote_to_be_reexecuted": false,
    "execution_millis": 6,
    "execution_start": 1650259176726,
    "source_hash": "ef3fb798"
   },
   "outputs": [],
   "source": [
    "music1_corr = music1_scale.corr()"
   ]
  },
  {
   "cell_type": "code",
   "execution_count": 22,
   "metadata": {
    "cell_id": "00015-3fc6a8d4-6d11-44c2-b48d-77855296ea2e",
    "deepnote_cell_height": 729.09375,
    "deepnote_cell_type": "code",
    "deepnote_output_heights": [
     578.09375
    ],
    "deepnote_to_be_reexecuted": false,
    "execution_millis": 3635,
    "execution_start": 1650259176796,
    "source_hash": "5f6df291"
   },
   "outputs": [
    {
     "data": {
      "image/png": "[encoded data removed]",
      "text/plain": [
       "<Figure size 1800x1440 with 2 Axes>"
      ]
     },
     "metadata": {
      "needs_background": "light"
     },
     "output_type": "display_data"
    }
   ],
   "source": [
    "f, ax = plt.subplots(figsize=(25,20))\n",
    "cmap = sns.diverging_palette(220, 20, as_cmap=True)\n",
    "sns.heatmap(music1_corr, cmap=cmap, vmax=.3, center=0, annot=True,square=True, linewidths=.5, cbar_kws={'shrink': .5})\n",
    "plt.show()"
   ]
  },
  {
   "cell_type": "code",
   "execution_count": 23,
   "metadata": {
    "cell_id": "00016-f87272a5-c404-47a9-a970-a883dfa9c057",
    "deepnote_cell_height": 410,
    "deepnote_cell_type": "code",
    "deepnote_to_be_reexecuted": false,
    "execution_millis": 161,
    "execution_start": 1650259189556,
    "source_hash": "327b180c"
   },
   "outputs": [
    {
     "data": {
      "text/html": [
       "<div>\n",
       "<style scoped>\n",
       "    .dataframe tbody tr th:only-of-type {\n",
       "        vertical-align: middle;\n",
       "    }\n",
       "\n",
       "    .dataframe tbody tr th {\n",
       "        vertical-align: top;\n",
       "    }\n",
       "\n",
       "    .dataframe thead th {\n",
       "        text-align: right;\n",
       "    }\n",
       "</style>\n",
       "<table border=\"1\" class=\"dataframe\">\n",
       "  <thead>\n",
       "    <tr style=\"text-align: right;\">\n",
       "      <th></th>\n",
       "      <th>Popularity</th>\n",
       "      <th>danceability</th>\n",
       "      <th>energy</th>\n",
       "      <th>loudness</th>\n",
       "      <th>speechiness</th>\n",
       "      <th>acousticness</th>\n",
       "      <th>instrumentalness</th>\n",
       "      <th>liveness</th>\n",
       "      <th>valence</th>\n",
       "      <th>tempo</th>\n",
       "      <th>duration_in min/ms</th>\n",
       "    </tr>\n",
       "  </thead>\n",
       "  <tbody>\n",
       "    <tr>\n",
       "      <th>0</th>\n",
       "      <td>0.517324</td>\n",
       "      <td>-0.791699</td>\n",
       "      <td>0.585840</td>\n",
       "      <td>0.273514</td>\n",
       "      <td>-0.439691</td>\n",
       "      <td>-0.694581</td>\n",
       "      <td>-0.554381</td>\n",
       "      <td>-0.575696</td>\n",
       "      <td>0.441888</td>\n",
       "      <td>-0.206417</td>\n",
       "      <td>0.303769</td>\n",
       "    </tr>\n",
       "    <tr>\n",
       "      <th>1</th>\n",
       "      <td>0.455873</td>\n",
       "      <td>-2.085178</td>\n",
       "      <td>1.210851</td>\n",
       "      <td>0.869772</td>\n",
       "      <td>1.878642</td>\n",
       "      <td>-0.697467</td>\n",
       "      <td>-0.515187</td>\n",
       "      <td>-0.140160</td>\n",
       "      <td>-1.544146</td>\n",
       "      <td>2.551376</td>\n",
       "      <td>0.126830</td>\n",
       "    </tr>\n",
       "    <tr>\n",
       "      <th>2</th>\n",
       "      <td>-0.711713</td>\n",
       "      <td>-0.310404</td>\n",
       "      <td>-1.122263</td>\n",
       "      <td>-0.704220</td>\n",
       "      <td>-0.538821</td>\n",
       "      <td>2.243876</td>\n",
       "      <td>2.444287</td>\n",
       "      <td>-0.391667</td>\n",
       "      <td>-1.202042</td>\n",
       "      <td>0.010084</td>\n",
       "      <td>-1.741914</td>\n",
       "    </tr>\n",
       "    <tr>\n",
       "      <th>3</th>\n",
       "      <td>1.869265</td>\n",
       "      <td>0.838686</td>\n",
       "      <td>-0.559365</td>\n",
       "      <td>-0.319309</td>\n",
       "      <td>-0.319413</td>\n",
       "      <td>0.560595</td>\n",
       "      <td>-0.499626</td>\n",
       "      <td>-0.575696</td>\n",
       "      <td>1.494836</td>\n",
       "      <td>-0.793023</td>\n",
       "      <td>-0.492957</td>\n",
       "    </tr>\n",
       "    <tr>\n",
       "      <th>4</th>\n",
       "      <td>-0.896068</td>\n",
       "      <td>0.303246</td>\n",
       "      <td>0.535374</td>\n",
       "      <td>0.778646</td>\n",
       "      <td>-0.351134</td>\n",
       "      <td>-0.690768</td>\n",
       "      <td>-0.542094</td>\n",
       "      <td>-0.784263</td>\n",
       "      <td>-0.257302</td>\n",
       "      <td>-0.588474</td>\n",
       "      <td>-0.488081</td>\n",
       "    </tr>\n",
       "  </tbody>\n",
       "</table>\n",
       "</div>"
      ],
      "text/plain": [
       "   Popularity  danceability    energy  loudness  speechiness  acousticness  \\\n",
       "0    0.517324     -0.791699  0.585840  0.273514    -0.439691     -0.694581   \n",
       "1    0.455873     -2.085178  1.210851  0.869772     1.878642     -0.697467   \n",
       "2   -0.711713     -0.310404 -1.122263 -0.704220    -0.538821      2.243876   \n",
       "3    1.869265      0.838686 -0.559365 -0.319309    -0.319413      0.560595   \n",
       "4   -0.896068      0.303246  0.535374  0.778646    -0.351134     -0.690768   \n",
       "\n",
       "   instrumentalness  liveness   valence     tempo  duration_in min/ms  \n",
       "0         -0.554381 -0.575696  0.441888 -0.206417            0.303769  \n",
       "1         -0.515187 -0.140160 -1.544146  2.551376            0.126830  \n",
       "2          2.444287 -0.391667 -1.202042  0.010084           -1.741914  \n",
       "3         -0.499626 -0.575696  1.494836 -0.793023           -0.492957  \n",
       "4         -0.542094 -0.784263 -0.257302 -0.588474           -0.488081  "
      ]
     },
     "execution_count": 23,
     "metadata": {},
     "output_type": "execute_result"
    }
   ],
   "source": [
    "music1_scale.head()"
   ]
  },
  {
   "cell_type": "code",
   "execution_count": 24,
   "metadata": {
    "cell_id": "00017-e8333e26-8856-451a-80bd-3cb3b48ba548",
    "deepnote_cell_height": 687,
    "deepnote_cell_type": "code",
    "deepnote_to_be_reexecuted": false,
    "execution_millis": 306,
    "execution_start": 1650259189743,
    "source_hash": "12be8533"
   },
   "outputs": [
    {
     "data": {
      "text/html": [
       "<div>\n",
       "<style scoped>\n",
       "    .dataframe tbody tr th:only-of-type {\n",
       "        vertical-align: middle;\n",
       "    }\n",
       "\n",
       "    .dataframe tbody tr th {\n",
       "        vertical-align: top;\n",
       "    }\n",
       "\n",
       "    .dataframe thead th {\n",
       "        text-align: right;\n",
       "    }\n",
       "</style>\n",
       "<table border=\"1\" class=\"dataframe\">\n",
       "  <thead>\n",
       "    <tr style=\"text-align: right;\">\n",
       "      <th></th>\n",
       "      <th>Popularity</th>\n",
       "      <th>danceability</th>\n",
       "      <th>energy</th>\n",
       "      <th>loudness</th>\n",
       "      <th>speechiness</th>\n",
       "      <th>acousticness</th>\n",
       "      <th>instrumentalness</th>\n",
       "      <th>liveness</th>\n",
       "      <th>valence</th>\n",
       "      <th>tempo</th>\n",
       "      <th>duration_in min/ms</th>\n",
       "      <th>class</th>\n",
       "      <th>key</th>\n",
       "      <th>mode</th>\n",
       "      <th>time_signature</th>\n",
       "    </tr>\n",
       "  </thead>\n",
       "  <tbody>\n",
       "    <tr>\n",
       "      <th>0</th>\n",
       "      <td>0.517324</td>\n",
       "      <td>-0.791699</td>\n",
       "      <td>0.585840</td>\n",
       "      <td>0.273514</td>\n",
       "      <td>-0.439691</td>\n",
       "      <td>-0.694581</td>\n",
       "      <td>-0.554381</td>\n",
       "      <td>-0.575696</td>\n",
       "      <td>0.441888</td>\n",
       "      <td>-0.206417</td>\n",
       "      <td>0.303769</td>\n",
       "      <td>0.0</td>\n",
       "      <td>3.0</td>\n",
       "      <td>1</td>\n",
       "      <td>4</td>\n",
       "    </tr>\n",
       "    <tr>\n",
       "      <th>1</th>\n",
       "      <td>0.455873</td>\n",
       "      <td>-2.085178</td>\n",
       "      <td>1.210851</td>\n",
       "      <td>0.869772</td>\n",
       "      <td>1.878642</td>\n",
       "      <td>-0.697467</td>\n",
       "      <td>-0.515187</td>\n",
       "      <td>-0.140160</td>\n",
       "      <td>-1.544146</td>\n",
       "      <td>2.551376</td>\n",
       "      <td>0.126830</td>\n",
       "      <td>0.0</td>\n",
       "      <td>2.0</td>\n",
       "      <td>1</td>\n",
       "      <td>4</td>\n",
       "    </tr>\n",
       "    <tr>\n",
       "      <th>2</th>\n",
       "      <td>-0.711713</td>\n",
       "      <td>-0.310404</td>\n",
       "      <td>-1.122263</td>\n",
       "      <td>-0.704220</td>\n",
       "      <td>-0.538821</td>\n",
       "      <td>2.243876</td>\n",
       "      <td>2.444287</td>\n",
       "      <td>-0.391667</td>\n",
       "      <td>-1.202042</td>\n",
       "      <td>0.010084</td>\n",
       "      <td>-1.741914</td>\n",
       "      <td>1.0</td>\n",
       "      <td>11.0</td>\n",
       "      <td>0</td>\n",
       "      <td>3</td>\n",
       "    </tr>\n",
       "    <tr>\n",
       "      <th>3</th>\n",
       "      <td>1.869265</td>\n",
       "      <td>0.838686</td>\n",
       "      <td>-0.559365</td>\n",
       "      <td>-0.319309</td>\n",
       "      <td>-0.319413</td>\n",
       "      <td>0.560595</td>\n",
       "      <td>-0.499626</td>\n",
       "      <td>-0.575696</td>\n",
       "      <td>1.494836</td>\n",
       "      <td>-0.793023</td>\n",
       "      <td>-0.492957</td>\n",
       "      <td>0.0</td>\n",
       "      <td>2.0</td>\n",
       "      <td>1</td>\n",
       "      <td>4</td>\n",
       "    </tr>\n",
       "    <tr>\n",
       "      <th>4</th>\n",
       "      <td>-0.896068</td>\n",
       "      <td>0.303246</td>\n",
       "      <td>0.535374</td>\n",
       "      <td>0.778646</td>\n",
       "      <td>-0.351134</td>\n",
       "      <td>-0.690768</td>\n",
       "      <td>-0.542094</td>\n",
       "      <td>-0.784263</td>\n",
       "      <td>-0.257302</td>\n",
       "      <td>-0.588474</td>\n",
       "      <td>-0.488081</td>\n",
       "      <td>0.0</td>\n",
       "      <td>1.0</td>\n",
       "      <td>0</td>\n",
       "      <td>4</td>\n",
       "    </tr>\n",
       "    <tr>\n",
       "      <th>...</th>\n",
       "      <td>...</td>\n",
       "      <td>...</td>\n",
       "      <td>...</td>\n",
       "      <td>...</td>\n",
       "      <td>...</td>\n",
       "      <td>...</td>\n",
       "      <td>...</td>\n",
       "      <td>...</td>\n",
       "      <td>...</td>\n",
       "      <td>...</td>\n",
       "      <td>...</td>\n",
       "      <td>...</td>\n",
       "      <td>...</td>\n",
       "      <td>...</td>\n",
       "      <td>...</td>\n",
       "    </tr>\n",
       "    <tr>\n",
       "      <th>4350</th>\n",
       "      <td>-0.035742</td>\n",
       "      <td>-0.376582</td>\n",
       "      <td>0.869230</td>\n",
       "      <td>0.480012</td>\n",
       "      <td>-0.057708</td>\n",
       "      <td>-0.697232</td>\n",
       "      <td>-0.492494</td>\n",
       "      <td>0.050004</td>\n",
       "      <td>-0.111638</td>\n",
       "      <td>-0.990962</td>\n",
       "      <td>0.211240</td>\n",
       "      <td>0.0</td>\n",
       "      <td>8.0</td>\n",
       "      <td>0</td>\n",
       "      <td>4</td>\n",
       "    </tr>\n",
       "    <tr>\n",
       "      <th>4351</th>\n",
       "      <td>-1.018972</td>\n",
       "      <td>0.730395</td>\n",
       "      <td>0.030707</td>\n",
       "      <td>-0.165749</td>\n",
       "      <td>-0.610195</td>\n",
       "      <td>-0.285696</td>\n",
       "      <td>-0.567137</td>\n",
       "      <td>0.350586</td>\n",
       "      <td>1.099461</td>\n",
       "      <td>0.045572</td>\n",
       "      <td>0.270182</td>\n",
       "      <td>0.0</td>\n",
       "      <td>10.0</td>\n",
       "      <td>0</td>\n",
       "      <td>4</td>\n",
       "    </tr>\n",
       "    <tr>\n",
       "      <th>4352</th>\n",
       "      <td>-0.097194</td>\n",
       "      <td>0.062599</td>\n",
       "      <td>-0.194452</td>\n",
       "      <td>-0.291223</td>\n",
       "      <td>-0.637952</td>\n",
       "      <td>-0.656142</td>\n",
       "      <td>1.549540</td>\n",
       "      <td>-0.667711</td>\n",
       "      <td>-0.082505</td>\n",
       "      <td>-0.675642</td>\n",
       "      <td>1.207660</td>\n",
       "      <td>0.0</td>\n",
       "      <td>1.0</td>\n",
       "      <td>1</td>\n",
       "      <td>4</td>\n",
       "    </tr>\n",
       "    <tr>\n",
       "      <th>4353</th>\n",
       "      <td>0.824584</td>\n",
       "      <td>-1.513641</td>\n",
       "      <td>0.609133</td>\n",
       "      <td>-0.613700</td>\n",
       "      <td>-0.410613</td>\n",
       "      <td>-0.666062</td>\n",
       "      <td>-0.271077</td>\n",
       "      <td>-0.575696</td>\n",
       "      <td>-0.869094</td>\n",
       "      <td>1.087014</td>\n",
       "      <td>0.259886</td>\n",
       "      <td>0.0</td>\n",
       "      <td>7.0</td>\n",
       "      <td>1</td>\n",
       "      <td>4</td>\n",
       "    </tr>\n",
       "    <tr>\n",
       "      <th>4354</th>\n",
       "      <td>-0.158646</td>\n",
       "      <td>-0.683408</td>\n",
       "      <td>0.737240</td>\n",
       "      <td>0.659435</td>\n",
       "      <td>-0.195169</td>\n",
       "      <td>-0.679268</td>\n",
       "      <td>0.119889</td>\n",
       "      <td>0.853599</td>\n",
       "      <td>-0.357187</td>\n",
       "      <td>0.516299</td>\n",
       "      <td>-0.261074</td>\n",
       "      <td>0.0</td>\n",
       "      <td>4.0</td>\n",
       "      <td>0</td>\n",
       "      <td>4</td>\n",
       "    </tr>\n",
       "  </tbody>\n",
       "</table>\n",
       "<p>4355 rows × 15 columns</p>\n",
       "</div>"
      ],
      "text/plain": [
       "      Popularity  danceability    energy  loudness  speechiness  acousticness  \\\n",
       "0       0.517324     -0.791699  0.585840  0.273514    -0.439691     -0.694581   \n",
       "1       0.455873     -2.085178  1.210851  0.869772     1.878642     -0.697467   \n",
       "2      -0.711713     -0.310404 -1.122263 -0.704220    -0.538821      2.243876   \n",
       "3       1.869265      0.838686 -0.559365 -0.319309    -0.319413      0.560595   \n",
       "4      -0.896068      0.303246  0.535374  0.778646    -0.351134     -0.690768   \n",
       "...          ...           ...       ...       ...          ...           ...   \n",
       "4350   -0.035742     -0.376582  0.869230  0.480012    -0.057708     -0.697232   \n",
       "4351   -1.018972      0.730395  0.030707 -0.165749    -0.610195     -0.285696   \n",
       "4352   -0.097194      0.062599 -0.194452 -0.291223    -0.637952     -0.656142   \n",
       "4353    0.824584     -1.513641  0.609133 -0.613700    -0.410613     -0.666062   \n",
       "4354   -0.158646     -0.683408  0.737240  0.659435    -0.195169     -0.679268   \n",
       "\n",
       "      instrumentalness  liveness   valence     tempo  duration_in min/ms  \\\n",
       "0            -0.554381 -0.575696  0.441888 -0.206417            0.303769   \n",
       "1            -0.515187 -0.140160 -1.544146  2.551376            0.126830   \n",
       "2             2.444287 -0.391667 -1.202042  0.010084           -1.741914   \n",
       "3            -0.499626 -0.575696  1.494836 -0.793023           -0.492957   \n",
       "4            -0.542094 -0.784263 -0.257302 -0.588474           -0.488081   \n",
       "...                ...       ...       ...       ...                 ...   \n",
       "4350         -0.492494  0.050004 -0.111638 -0.990962            0.211240   \n",
       "4351         -0.567137  0.350586  1.099461  0.045572            0.270182   \n",
       "4352          1.549540 -0.667711 -0.082505 -0.675642            1.207660   \n",
       "4353         -0.271077 -0.575696 -0.869094  1.087014            0.259886   \n",
       "4354          0.119889  0.853599 -0.357187  0.516299           -0.261074   \n",
       "\n",
       "      class   key  mode  time_signature  \n",
       "0       0.0   3.0     1               4  \n",
       "1       0.0   2.0     1               4  \n",
       "2       1.0  11.0     0               3  \n",
       "3       0.0   2.0     1               4  \n",
       "4       0.0   1.0     0               4  \n",
       "...     ...   ...   ...             ...  \n",
       "4350    0.0   8.0     0               4  \n",
       "4351    0.0  10.0     0               4  \n",
       "4352    0.0   1.0     1               4  \n",
       "4353    0.0   7.0     1               4  \n",
       "4354    0.0   4.0     0               4  \n",
       "\n",
       "[4355 rows x 15 columns]"
      ]
     },
     "execution_count": 24,
     "metadata": {},
     "output_type": "execute_result"
    }
   ],
   "source": [
    "music1_scale['class'] = music['class'].tolist() \n",
    "music1_scale['key'] = music['key'].tolist() \n",
    "music1_scale['mode'] = music['mode'].tolist() \n",
    "music1_scale['time_signature'] = music['time_signature'].tolist()\n",
    "music1_scale "
   ]
  },
  {
   "cell_type": "code",
   "execution_count": 25,
   "metadata": {
    "cell_id": "00018-77721a2b-5a70-45e3-b8f6-488b1047b7d0",
    "deepnote_cell_height": 870,
    "deepnote_cell_type": "code",
    "deepnote_output_heights": [
     611
    ],
    "deepnote_to_be_reexecuted": false,
    "execution_millis": 1145,
    "execution_start": 1650259190079,
    "source_hash": "44998c3f"
   },
   "outputs": [
    {
     "data": {
      "image/png": "[encoded data removed]",
      "text/plain": [
       "<Figure size 360x1080 with 3 Axes>"
      ]
     },
     "metadata": {
      "needs_background": "light"
     },
     "output_type": "display_data"
    }
   ],
   "source": [
    "fig, ax = plt.subplots(ncols = 1,nrows = 3, figsize=(5, 15))\n",
    "g = sns.boxplot(data = music1_scale, x = 'class', y='Popularity', ax = ax[0])\n",
    "g.set_title('Popularity')\n",
    "#f = sns.boxplot(data = music1_scale, x = 'class', y='danceability', ax = ax[0,1])\n",
    "#f.set_title('danceability')\n",
    "g = sns.boxplot(data = music1_scale, x = 'class', y='loudness', ax = ax[1])\n",
    "g.set_title('loudness')\n",
    "f = sns.boxplot(data = music1_scale, x = 'class', y='acousticness', ax = ax[2])\n",
    "f.set_title('acousticness')\n",
    "plt.show()"
   ]
  },
  {
   "cell_type": "code",
   "execution_count": 26,
   "metadata": {
    "cell_id": "00019-bd913202-b1e0-4d00-af08-d313e78ea1e8",
    "deepnote_cell_height": 664.546875,
    "deepnote_cell_type": "code",
    "deepnote_output_heights": [
     423.546875
    ],
    "deepnote_to_be_reexecuted": false,
    "execution_millis": 2549,
    "execution_start": 1650259191546,
    "source_hash": "f773610c"
   },
   "outputs": [
    {
     "name": "stderr",
     "output_type": "stream",
     "text": [
      "/Users/apple/anaconda3/lib/python3.7/site-packages/matplotlib/cbook/__init__.py:1402: FutureWarning: Support for multi-dimensional indexing (e.g. `obj[:, None]`) is deprecated and will be removed in a future version.  Convert to a numpy array before indexing instead.\n",
      "  x[:, None]\n",
      "/Users/apple/anaconda3/lib/python3.7/site-packages/matplotlib/axes/_base.py:276: FutureWarning: Support for multi-dimensional indexing (e.g. `obj[:, None]`) is deprecated and will be removed in a future version.  Convert to a numpy array before indexing instead.\n",
      "  x = x[:, np.newaxis]\n",
      "/Users/apple/anaconda3/lib/python3.7/site-packages/matplotlib/axes/_base.py:278: FutureWarning: Support for multi-dimensional indexing (e.g. `obj[:, None]`) is deprecated and will be removed in a future version.  Convert to a numpy array before indexing instead.\n",
      "  y = y[:, np.newaxis]\n",
      "/Users/apple/anaconda3/lib/python3.7/site-packages/matplotlib/cbook/__init__.py:1402: FutureWarning: Support for multi-dimensional indexing (e.g. `obj[:, None]`) is deprecated and will be removed in a future version.  Convert to a numpy array before indexing instead.\n",
      "  x[:, None]\n",
      "/Users/apple/anaconda3/lib/python3.7/site-packages/matplotlib/axes/_base.py:276: FutureWarning: Support for multi-dimensional indexing (e.g. `obj[:, None]`) is deprecated and will be removed in a future version.  Convert to a numpy array before indexing instead.\n",
      "  x = x[:, np.newaxis]\n",
      "/Users/apple/anaconda3/lib/python3.7/site-packages/matplotlib/axes/_base.py:278: FutureWarning: Support for multi-dimensional indexing (e.g. `obj[:, None]`) is deprecated and will be removed in a future version.  Convert to a numpy array before indexing instead.\n",
      "  y = y[:, np.newaxis]\n",
      "/Users/apple/anaconda3/lib/python3.7/site-packages/matplotlib/cbook/__init__.py:1402: FutureWarning: Support for multi-dimensional indexing (e.g. `obj[:, None]`) is deprecated and will be removed in a future version.  Convert to a numpy array before indexing instead.\n",
      "  x[:, None]\n",
      "/Users/apple/anaconda3/lib/python3.7/site-packages/matplotlib/axes/_base.py:276: FutureWarning: Support for multi-dimensional indexing (e.g. `obj[:, None]`) is deprecated and will be removed in a future version.  Convert to a numpy array before indexing instead.\n",
      "  x = x[:, np.newaxis]\n",
      "/Users/apple/anaconda3/lib/python3.7/site-packages/matplotlib/axes/_base.py:278: FutureWarning: Support for multi-dimensional indexing (e.g. `obj[:, None]`) is deprecated and will be removed in a future version.  Convert to a numpy array before indexing instead.\n",
      "  y = y[:, np.newaxis]\n",
      "/Users/apple/anaconda3/lib/python3.7/site-packages/matplotlib/cbook/__init__.py:1402: FutureWarning: Support for multi-dimensional indexing (e.g. `obj[:, None]`) is deprecated and will be removed in a future version.  Convert to a numpy array before indexing instead.\n",
      "  x[:, None]\n",
      "/Users/apple/anaconda3/lib/python3.7/site-packages/matplotlib/axes/_base.py:276: FutureWarning: Support for multi-dimensional indexing (e.g. `obj[:, None]`) is deprecated and will be removed in a future version.  Convert to a numpy array before indexing instead.\n",
      "  x = x[:, np.newaxis]\n",
      "/Users/apple/anaconda3/lib/python3.7/site-packages/matplotlib/axes/_base.py:278: FutureWarning: Support for multi-dimensional indexing (e.g. `obj[:, None]`) is deprecated and will be removed in a future version.  Convert to a numpy array before indexing instead.\n",
      "  y = y[:, np.newaxis]\n",
      "/Users/apple/anaconda3/lib/python3.7/site-packages/matplotlib/cbook/__init__.py:1402: FutureWarning: Support for multi-dimensional indexing (e.g. `obj[:, None]`) is deprecated and will be removed in a future version.  Convert to a numpy array before indexing instead.\n",
      "  x[:, None]\n",
      "/Users/apple/anaconda3/lib/python3.7/site-packages/matplotlib/axes/_base.py:276: FutureWarning: Support for multi-dimensional indexing (e.g. `obj[:, None]`) is deprecated and will be removed in a future version.  Convert to a numpy array before indexing instead.\n",
      "  x = x[:, np.newaxis]\n",
      "/Users/apple/anaconda3/lib/python3.7/site-packages/matplotlib/axes/_base.py:278: FutureWarning: Support for multi-dimensional indexing (e.g. `obj[:, None]`) is deprecated and will be removed in a future version.  Convert to a numpy array before indexing instead.\n",
      "  y = y[:, np.newaxis]\n",
      "/Users/apple/anaconda3/lib/python3.7/site-packages/matplotlib/cbook/__init__.py:1402: FutureWarning: Support for multi-dimensional indexing (e.g. `obj[:, None]`) is deprecated and will be removed in a future version.  Convert to a numpy array before indexing instead.\n",
      "  x[:, None]\n",
      "/Users/apple/anaconda3/lib/python3.7/site-packages/matplotlib/axes/_base.py:276: FutureWarning: Support for multi-dimensional indexing (e.g. `obj[:, None]`) is deprecated and will be removed in a future version.  Convert to a numpy array before indexing instead.\n",
      "  x = x[:, np.newaxis]\n",
      "/Users/apple/anaconda3/lib/python3.7/site-packages/matplotlib/axes/_base.py:278: FutureWarning: Support for multi-dimensional indexing (e.g. `obj[:, None]`) is deprecated and will be removed in a future version.  Convert to a numpy array before indexing instead.\n",
      "  y = y[:, np.newaxis]\n"
     ]
    },
    {
     "data": {
      "image/png": "[encoded data removed]",
      "text/plain": [
       "<Figure size 1080x720 with 6 Axes>"
      ]
     },
     "metadata": {
      "needs_background": "light"
     },
     "output_type": "display_data"
    }
   ],
   "source": [
    "fig, ax = plt.subplots(ncols = 2,nrows = 3, figsize=(15, 10))\n",
    "g = sns.histplot(data = music1_scale, x = 'Popularity',kde=True,ax = ax[0,0])\n",
    "g.set(xlim=(-3,3.5))\n",
    "sns.histplot(data = music1_scale, x = 'danceability',kde=True,ax = ax[0,1])\n",
    "sns.histplot(data = music1_scale, x = 'energy',kde=True,ax = ax[1,0])\n",
    "sns.histplot(data = music1_scale, x = 'loudness',kde=True,ax = ax[1,1])\n",
    "sns.histplot(data = music1_scale, x = 'acousticness',kde=True,ax = ax[2,0])\n",
    "sns.histplot(data = music1_scale, x = 'instrumentalness',kde=True,ax = ax[2,1])\n",
    "plt.show()"
   ]
  },
  {
   "cell_type": "markdown",
   "metadata": {
    "cell_id": "00020-d56bfdfd-acde-40e5-8498-a7941c37343d",
    "deepnote_cell_height": 272.578125,
    "deepnote_cell_type": "markdown"
   },
   "source": [
    "- logistic regression\n",
    "- KNN\n",
    "- decision tree\n",
    "- rf \n",
    "- NN\n",
    "- svm\n",
    "- pca\n",
    "- sdm\n",
    "- hierarchical clustering"
   ]
  },
  {
   "cell_type": "code",
   "execution_count": 27,
   "metadata": {
    "cell_id": "00021-dbfb127c-56b4-4ee0-8d9d-3a9282460014",
    "deepnote_cell_height": 81,
    "deepnote_cell_type": "code",
    "deepnote_to_be_reexecuted": false,
    "execution_millis": 26,
    "execution_start": 1650259194104,
    "source_hash": "6e34a47e"
   },
   "outputs": [],
   "source": [
    "# music1_scale.to_csv('music_scale.csv')"
   ]
  },
  {
   "cell_type": "code",
   "execution_count": 28,
   "metadata": {
    "cell_id": "00022-9fc0cf0d-c965-477e-9976-0f130353c414",
    "deepnote_cell_height": 153,
    "deepnote_cell_type": "code",
    "deepnote_to_be_reexecuted": false,
    "execution_millis": 130,
    "execution_start": 1650259194136,
    "source_hash": "6dcc92bb"
   },
   "outputs": [],
   "source": [
    "from sklearn.model_selection import StratifiedShuffleSplit\n",
    "split = StratifiedShuffleSplit(n_splits=1, test_size=0.2, random_state=42)\n",
    "for train_index, test_index in split.split(music1_scale, music1_scale[\"class\"]):\n",
    "    strat_train_set = music1_scale.iloc[train_index]\n",
    "    strat_test_set = music1_scale.iloc[test_index]"
   ]
  },
  {
   "cell_type": "code",
   "execution_count": 29,
   "metadata": {
    "cell_id": "00023-7590ac49-9c7b-4ac3-ac78-e9e49664e001",
    "deepnote_cell_height": 99,
    "deepnote_cell_type": "code",
    "deepnote_to_be_reexecuted": false,
    "execution_millis": 5953565,
    "execution_start": 1650259194282,
    "source_hash": "ef1257aa"
   },
   "outputs": [],
   "source": [
    "strat_train_set = strat_train_set.reset_index(drop = True)\n",
    "strat_test_set = strat_test_set.reset_index(drop = True)"
   ]
  },
  {
   "cell_type": "code",
   "execution_count": 30,
   "metadata": {
    "cell_id": "00024-fbcbce01-72ed-43ce-8fed-e058cfd32dac",
    "deepnote_cell_height": 135,
    "deepnote_cell_type": "code",
    "deepnote_to_be_reexecuted": false,
    "execution_millis": 1,
    "execution_start": 1650259194339,
    "source_hash": "4297485c"
   },
   "outputs": [],
   "source": [
    "train_X = strat_train_set.drop('class', axis = 1)\n",
    "test_X = strat_test_set.drop('class', axis = 1)\n",
    "train_y = strat_train_set['class']\n",
    "test_y = strat_test_set['class']"
   ]
  },
  {
   "cell_type": "code",
   "execution_count": 31,
   "metadata": {
    "cell_id": "00025-56582c44-e58a-44f9-aec2-85b1b8015602",
    "deepnote_cell_height": 118.1875,
    "deepnote_cell_type": "code",
    "deepnote_output_heights": [
     21.1875
    ],
    "deepnote_to_be_reexecuted": false,
    "execution_millis": 45,
    "execution_start": 1650259194340,
    "source_hash": "92ec97cd"
   },
   "outputs": [
    {
     "data": {
      "text/plain": [
       "array([0., 1., 2.])"
      ]
     },
     "execution_count": 31,
     "metadata": {},
     "output_type": "execute_result"
    }
   ],
   "source": [
    "train_y.unique()"
   ]
  },
  {
   "cell_type": "code",
   "execution_count": 32,
   "metadata": {
    "cell_id": "00026-aacc6c10-bdec-4d00-9756-50fe9cd7bd37",
    "deepnote_cell_height": 615,
    "deepnote_cell_type": "code",
    "deepnote_to_be_reexecuted": false,
    "execution_millis": 207,
    "execution_start": 1650259194384,
    "source_hash": "d813eb10"
   },
   "outputs": [
    {
     "data": {
      "text/html": [
       "<div>\n",
       "<style scoped>\n",
       "    .dataframe tbody tr th:only-of-type {\n",
       "        vertical-align: middle;\n",
       "    }\n",
       "\n",
       "    .dataframe tbody tr th {\n",
       "        vertical-align: top;\n",
       "    }\n",
       "\n",
       "    .dataframe thead th {\n",
       "        text-align: right;\n",
       "    }\n",
       "</style>\n",
       "<table border=\"1\" class=\"dataframe\">\n",
       "  <thead>\n",
       "    <tr style=\"text-align: right;\">\n",
       "      <th></th>\n",
       "      <th>Popularity</th>\n",
       "      <th>danceability</th>\n",
       "      <th>energy</th>\n",
       "      <th>loudness</th>\n",
       "      <th>speechiness</th>\n",
       "      <th>acousticness</th>\n",
       "      <th>instrumentalness</th>\n",
       "      <th>liveness</th>\n",
       "      <th>valence</th>\n",
       "      <th>tempo</th>\n",
       "      <th>duration_in min/ms</th>\n",
       "      <th>key</th>\n",
       "      <th>mode</th>\n",
       "      <th>time_signature</th>\n",
       "    </tr>\n",
       "  </thead>\n",
       "  <tbody>\n",
       "    <tr>\n",
       "      <th>0</th>\n",
       "      <td>-0.465905</td>\n",
       "      <td>-0.412679</td>\n",
       "      <td>0.865348</td>\n",
       "      <td>0.402424</td>\n",
       "      <td>-0.121152</td>\n",
       "      <td>-0.693093</td>\n",
       "      <td>-0.567363</td>\n",
       "      <td>-0.935167</td>\n",
       "      <td>-0.336377</td>\n",
       "      <td>-1.377693</td>\n",
       "      <td>0.104904</td>\n",
       "      <td>7.0</td>\n",
       "      <td>1</td>\n",
       "      <td>4</td>\n",
       "    </tr>\n",
       "    <tr>\n",
       "      <th>1</th>\n",
       "      <td>-0.220098</td>\n",
       "      <td>0.718363</td>\n",
       "      <td>-1.114499</td>\n",
       "      <td>-0.575916</td>\n",
       "      <td>-0.610195</td>\n",
       "      <td>1.850180</td>\n",
       "      <td>-0.504165</td>\n",
       "      <td>-0.695929</td>\n",
       "      <td>-0.665164</td>\n",
       "      <td>-1.147137</td>\n",
       "      <td>1.768172</td>\n",
       "      <td>9.0</td>\n",
       "      <td>1</td>\n",
       "      <td>4</td>\n",
       "    </tr>\n",
       "    <tr>\n",
       "      <th>2</th>\n",
       "      <td>-0.527357</td>\n",
       "      <td>-0.581132</td>\n",
       "      <td>1.043923</td>\n",
       "      <td>0.906748</td>\n",
       "      <td>-0.211030</td>\n",
       "      <td>-0.697306</td>\n",
       "      <td>-0.567085</td>\n",
       "      <td>1.332076</td>\n",
       "      <td>-1.160424</td>\n",
       "      <td>-1.423497</td>\n",
       "      <td>0.099525</td>\n",
       "      <td>5.0</td>\n",
       "      <td>0</td>\n",
       "      <td>4</td>\n",
       "    </tr>\n",
       "    <tr>\n",
       "      <th>3</th>\n",
       "      <td>-0.158646</td>\n",
       "      <td>0.152842</td>\n",
       "      <td>-1.770565</td>\n",
       "      <td>-1.599112</td>\n",
       "      <td>-0.370960</td>\n",
       "      <td>2.085777</td>\n",
       "      <td>1.494428</td>\n",
       "      <td>0.166556</td>\n",
       "      <td>-0.848285</td>\n",
       "      <td>-0.020263</td>\n",
       "      <td>-1.741882</td>\n",
       "      <td>8.0</td>\n",
       "      <td>1</td>\n",
       "      <td>4</td>\n",
       "    </tr>\n",
       "    <tr>\n",
       "      <th>4</th>\n",
       "      <td>-1.817846</td>\n",
       "      <td>-1.736239</td>\n",
       "      <td>0.783825</td>\n",
       "      <td>0.406465</td>\n",
       "      <td>0.238362</td>\n",
       "      <td>-0.697976</td>\n",
       "      <td>-0.162151</td>\n",
       "      <td>2.356507</td>\n",
       "      <td>-1.106320</td>\n",
       "      <td>-0.776832</td>\n",
       "      <td>0.070375</td>\n",
       "      <td>9.0</td>\n",
       "      <td>1</td>\n",
       "      <td>4</td>\n",
       "    </tr>\n",
       "    <tr>\n",
       "      <th>...</th>\n",
       "      <td>...</td>\n",
       "      <td>...</td>\n",
       "      <td>...</td>\n",
       "      <td>...</td>\n",
       "      <td>...</td>\n",
       "      <td>...</td>\n",
       "      <td>...</td>\n",
       "      <td>...</td>\n",
       "      <td>...</td>\n",
       "      <td>...</td>\n",
       "      <td>...</td>\n",
       "      <td>...</td>\n",
       "      <td>...</td>\n",
       "      <td>...</td>\n",
       "    </tr>\n",
       "    <tr>\n",
       "      <th>3479</th>\n",
       "      <td>-0.158646</td>\n",
       "      <td>-0.340485</td>\n",
       "      <td>1.043923</td>\n",
       "      <td>0.844920</td>\n",
       "      <td>-0.144943</td>\n",
       "      <td>-0.692008</td>\n",
       "      <td>-0.566908</td>\n",
       "      <td>0.872002</td>\n",
       "      <td>-0.565279</td>\n",
       "      <td>-0.421449</td>\n",
       "      <td>0.061753</td>\n",
       "      <td>4.0</td>\n",
       "      <td>0</td>\n",
       "      <td>4</td>\n",
       "    </tr>\n",
       "    <tr>\n",
       "      <th>3480</th>\n",
       "      <td>-1.449135</td>\n",
       "      <td>-0.268291</td>\n",
       "      <td>0.636307</td>\n",
       "      <td>-0.224344</td>\n",
       "      <td>-0.052421</td>\n",
       "      <td>-0.697862</td>\n",
       "      <td>-0.567258</td>\n",
       "      <td>0.356720</td>\n",
       "      <td>0.396108</td>\n",
       "      <td>-1.255938</td>\n",
       "      <td>-0.276255</td>\n",
       "      <td>4.0</td>\n",
       "      <td>1</td>\n",
       "      <td>4</td>\n",
       "    </tr>\n",
       "    <tr>\n",
       "      <th>3481</th>\n",
       "      <td>1.316199</td>\n",
       "      <td>0.507796</td>\n",
       "      <td>-0.004232</td>\n",
       "      <td>0.563056</td>\n",
       "      <td>-0.341882</td>\n",
       "      <td>-0.688660</td>\n",
       "      <td>-0.566839</td>\n",
       "      <td>-0.697156</td>\n",
       "      <td>0.283738</td>\n",
       "      <td>1.746032</td>\n",
       "      <td>-0.594425</td>\n",
       "      <td>4.0</td>\n",
       "      <td>1</td>\n",
       "      <td>4</td>\n",
       "    </tr>\n",
       "    <tr>\n",
       "      <th>3482</th>\n",
       "      <td>0.087161</td>\n",
       "      <td>-1.098524</td>\n",
       "      <td>-1.479411</td>\n",
       "      <td>-0.460544</td>\n",
       "      <td>-0.590369</td>\n",
       "      <td>1.502984</td>\n",
       "      <td>-0.558887</td>\n",
       "      <td>-0.226040</td>\n",
       "      <td>-0.294759</td>\n",
       "      <td>-0.349505</td>\n",
       "      <td>-0.399339</td>\n",
       "      <td>7.0</td>\n",
       "      <td>1</td>\n",
       "      <td>4</td>\n",
       "    </tr>\n",
       "    <tr>\n",
       "      <th>3483</th>\n",
       "      <td>1.439102</td>\n",
       "      <td>0.032518</td>\n",
       "      <td>0.415030</td>\n",
       "      <td>-0.041284</td>\n",
       "      <td>0.092970</td>\n",
       "      <td>-0.488744</td>\n",
       "      <td>-0.567370</td>\n",
       "      <td>-0.727827</td>\n",
       "      <td>1.906860</td>\n",
       "      <td>1.190274</td>\n",
       "      <td>-0.134520</td>\n",
       "      <td>7.0</td>\n",
       "      <td>1</td>\n",
       "      <td>4</td>\n",
       "    </tr>\n",
       "  </tbody>\n",
       "</table>\n",
       "<p>3484 rows × 14 columns</p>\n",
       "</div>"
      ],
      "text/plain": [
       "      Popularity  danceability    energy  loudness  speechiness  acousticness  \\\n",
       "0      -0.465905     -0.412679  0.865348  0.402424    -0.121152     -0.693093   \n",
       "1      -0.220098      0.718363 -1.114499 -0.575916    -0.610195      1.850180   \n",
       "2      -0.527357     -0.581132  1.043923  0.906748    -0.211030     -0.697306   \n",
       "3      -0.158646      0.152842 -1.770565 -1.599112    -0.370960      2.085777   \n",
       "4      -1.817846     -1.736239  0.783825  0.406465     0.238362     -0.697976   \n",
       "...          ...           ...       ...       ...          ...           ...   \n",
       "3479   -0.158646     -0.340485  1.043923  0.844920    -0.144943     -0.692008   \n",
       "3480   -1.449135     -0.268291  0.636307 -0.224344    -0.052421     -0.697862   \n",
       "3481    1.316199      0.507796 -0.004232  0.563056    -0.341882     -0.688660   \n",
       "3482    0.087161     -1.098524 -1.479411 -0.460544    -0.590369      1.502984   \n",
       "3483    1.439102      0.032518  0.415030 -0.041284     0.092970     -0.488744   \n",
       "\n",
       "      instrumentalness  liveness   valence     tempo  duration_in min/ms  key  \\\n",
       "0            -0.567363 -0.935167 -0.336377 -1.377693            0.104904  7.0   \n",
       "1            -0.504165 -0.695929 -0.665164 -1.147137            1.768172  9.0   \n",
       "2            -0.567085  1.332076 -1.160424 -1.423497            0.099525  5.0   \n",
       "3             1.494428  0.166556 -0.848285 -0.020263           -1.741882  8.0   \n",
       "4            -0.162151  2.356507 -1.106320 -0.776832            0.070375  9.0   \n",
       "...                ...       ...       ...       ...                 ...  ...   \n",
       "3479         -0.566908  0.872002 -0.565279 -0.421449            0.061753  4.0   \n",
       "3480         -0.567258  0.356720  0.396108 -1.255938           -0.276255  4.0   \n",
       "3481         -0.566839 -0.697156  0.283738  1.746032           -0.594425  4.0   \n",
       "3482         -0.558887 -0.226040 -0.294759 -0.349505           -0.399339  7.0   \n",
       "3483         -0.567370 -0.727827  1.906860  1.190274           -0.134520  7.0   \n",
       "\n",
       "      mode  time_signature  \n",
       "0        1               4  \n",
       "1        1               4  \n",
       "2        0               4  \n",
       "3        1               4  \n",
       "4        1               4  \n",
       "...    ...             ...  \n",
       "3479     0               4  \n",
       "3480     1               4  \n",
       "3481     1               4  \n",
       "3482     1               4  \n",
       "3483     1               4  \n",
       "\n",
       "[3484 rows x 14 columns]"
      ]
     },
     "execution_count": 32,
     "metadata": {},
     "output_type": "execute_result"
    }
   ],
   "source": [
    "train_X"
   ]
  },
  {
   "cell_type": "code",
   "execution_count": null,
   "metadata": {
    "cell_id": "00027-6f890cbc-a9ab-4e79-b814-144c230f0f58",
    "deepnote_cell_height": 99,
    "deepnote_cell_type": "code",
    "deepnote_to_be_reexecuted": false,
    "execution_millis": 1,
    "execution_start": 1650259194600,
    "source_hash": "99cb45ce"
   },
   "outputs": [],
   "source": [
    "# nor_var = list(['mode', 'time_signature'])\n",
    "# ord_var = list(['key'])"
   ]
  },
  {
   "cell_type": "code",
   "execution_count": null,
   "metadata": {
    "cell_id": "00028-4a214185-6d91-4ff4-a0eb-28e7f8bfc4e7",
    "deepnote_cell_height": 279,
    "deepnote_cell_type": "code",
    "deepnote_to_be_reexecuted": false,
    "execution_millis": 1,
    "execution_start": 1650259194656,
    "source_hash": "cc70e922"
   },
   "outputs": [],
   "source": [
    "# from sklearn.compose import ColumnTransformer\n",
    "# from sklearn.preprocessing import StandardScaler\n",
    "# from sklearn.preprocessing import OneHotEncoder\n",
    "# from sklearn.preprocessing import OrdinalEncoder\n",
    "\n",
    "# full_pipeline = ColumnTransformer([\n",
    "#         (\"nor\", OneHotEncoder(), nor_var),\n",
    "#         (\"ord\", OrdinalEncoder(), ord_var),\n",
    "#     ])\n",
    "\n",
    "# train_X = full_pipeline.fit_transform(train_X)\n",
    "# test_X = full_pipeline.transform(test_X)"
   ]
  },
  {
   "cell_type": "code",
   "execution_count": null,
   "metadata": {
    "cell_id": "214c3b8e8ac841108ee6b7e700b1b3c7",
    "deepnote_cell_height": 81,
    "deepnote_cell_type": "code",
    "deepnote_to_be_reexecuted": false,
    "execution_millis": 5953757,
    "execution_start": 1650259194658,
    "source_hash": "ca64a164",
    "tags": []
   },
   "outputs": [],
   "source": [
    "from sklearn.metrics import classification_report, confusion_matrix"
   ]
  },
  {
   "cell_type": "markdown",
   "metadata": {
    "cell_id": "00029-ab105499-e808-4b34-9714-488f3a6e9046",
    "deepnote_cell_height": 62,
    "deepnote_cell_type": "markdown"
   },
   "source": [
    "### KNN"
   ]
  },
  {
   "cell_type": "code",
   "execution_count": null,
   "metadata": {
    "cell_id": "00030-1b75e2a8-a90b-4185-8981-22c697f28c0c",
    "deepnote_cell_height": 189,
    "deepnote_cell_type": "code",
    "deepnote_to_be_reexecuted": false,
    "execution_millis": 574,
    "execution_start": 1650253240901,
    "source_hash": "d205d0b"
   },
   "outputs": [],
   "source": [
    "from sklearn.neighbors import KNeighborsClassifier\n",
    "knn_model = KNeighborsClassifier(n_neighbors=5)\n",
    "\n",
    "knn_model.fit(train_X, train_y)\n",
    "pred_y = knn_model.predict(test_X)\n",
    "train_knn = knn_model.score(train_X, train_y)\n",
    "test_knn = knn_model.score(test_X, test_y)"
   ]
  },
  {
   "cell_type": "code",
   "execution_count": null,
   "metadata": {
    "cell_id": "00031-92268950-af41-44a1-ae54-0de000845f42",
    "deepnote_cell_height": 118.1875,
    "deepnote_cell_type": "code",
    "deepnote_output_heights": [
     21.1875
    ],
    "deepnote_to_be_reexecuted": false,
    "execution_millis": 5,
    "execution_start": 1650253241479,
    "source_hash": "d5f1b558"
   },
   "outputs": [
    {
     "data": {
      "text/plain": [
       "0.9500574052812859"
      ]
     },
     "execution_count": 36,
     "metadata": {},
     "output_type": "execute_result"
    }
   ],
   "source": [
    "train_knn"
   ]
  },
  {
   "cell_type": "code",
   "execution_count": null,
   "metadata": {
    "cell_id": "00032-844a864f-dcae-4317-bce8-ab9f83d9a3ae",
    "deepnote_cell_height": 118.1875,
    "deepnote_cell_type": "code",
    "deepnote_output_heights": [
     21.1875
    ],
    "deepnote_to_be_reexecuted": false,
    "execution_millis": 15,
    "execution_start": 1650253241491,
    "source_hash": "89278ae5"
   },
   "outputs": [
    {
     "data": {
      "text/plain": [
       "0.9322617680826636"
      ]
     },
     "execution_count": 37,
     "metadata": {},
     "output_type": "execute_result"
    }
   ],
   "source": [
    "test_knn"
   ]
  },
  {
   "cell_type": "code",
   "execution_count": null,
   "metadata": {
    "cell_id": "00033-35b7218c-be6f-416a-b61d-44cb5547e1c9",
    "deepnote_cell_height": 210,
    "deepnote_cell_type": "code",
    "deepnote_output_heights": [
     40.390625
    ],
    "deepnote_to_be_reexecuted": false,
    "execution_millis": 3654,
    "execution_start": 1650253241507,
    "source_hash": "e7eb2316"
   },
   "outputs": [
    {
     "data": {
      "text/plain": [
       "GridSearchCV(cv=10, estimator=KNeighborsClassifier(), n_jobs=-1,\n",
       "             param_grid={'n_neighbors': [1, 3, 5, 10, 20]})"
      ]
     },
     "execution_count": 38,
     "metadata": {},
     "output_type": "execute_result"
    }
   ],
   "source": [
    "from sklearn.model_selection import GridSearchCV\n",
    "\n",
    "grid_clf_knn = GridSearchCV(cv=10, estimator=KNeighborsClassifier(), n_jobs=-1,\n",
    "             param_grid={'n_neighbors': [1, 3, 5, 10, 20]})\n",
    "grid_clf_knn.fit(train_X, train_y)"
   ]
  },
  {
   "cell_type": "code",
   "execution_count": null,
   "metadata": {
    "cell_id": "00034-0a5e1a04-73eb-47ee-8962-51382ec69680",
    "deepnote_cell_height": 118.1875,
    "deepnote_cell_type": "code",
    "deepnote_output_heights": [
     21.1875
    ],
    "deepnote_to_be_reexecuted": false,
    "execution_millis": 4,
    "execution_start": 1650253245165,
    "source_hash": "2b2ba917"
   },
   "outputs": [
    {
     "data": {
      "text/plain": [
       "KNeighborsClassifier()"
      ]
     },
     "execution_count": 39,
     "metadata": {},
     "output_type": "execute_result"
    }
   ],
   "source": [
    "grid_clf_knn.best_estimator_"
   ]
  },
  {
   "cell_type": "code",
   "execution_count": null,
   "metadata": {
    "cell_id": "00035-32852922-29a2-411d-8571-e35601ce4c18",
    "deepnote_cell_height": 135,
    "deepnote_cell_type": "code",
    "deepnote_to_be_reexecuted": false,
    "execution_millis": 473,
    "execution_start": 1650253245190,
    "source_hash": "32144981"
   },
   "outputs": [],
   "source": [
    "y_pred = grid_clf_knn.predict(test_X)\n",
    "\n",
    "train_knn = grid_clf_knn.score(train_X, train_y)\n",
    "test_knn = grid_clf_knn.score(test_X, test_y)"
   ]
  },
  {
   "cell_type": "code",
   "execution_count": null,
   "metadata": {
    "cell_id": "b8a1cf297d684a00b583aa8b7858108c",
    "deepnote_cell_height": 118.1875,
    "deepnote_cell_type": "code",
    "deepnote_output_heights": [
     21.1875
    ],
    "deepnote_to_be_reexecuted": false,
    "execution_millis": 126,
    "execution_start": 1650253245669,
    "source_hash": "2b2ba917",
    "tags": []
   },
   "outputs": [
    {
     "data": {
      "text/plain": [
       "KNeighborsClassifier()"
      ]
     },
     "execution_count": 41,
     "metadata": {},
     "output_type": "execute_result"
    }
   ],
   "source": [
    "grid_clf_knn.best_estimator_"
   ]
  },
  {
   "cell_type": "code",
   "execution_count": null,
   "metadata": {
    "cell_id": "00036-d2573e4c-22fc-43ee-b386-cc364930f052",
    "deepnote_cell_height": 118.1875,
    "deepnote_cell_type": "code",
    "deepnote_output_heights": [
     21.1875
    ],
    "deepnote_to_be_reexecuted": false,
    "execution_millis": 128,
    "execution_start": 1650253245674,
    "source_hash": "d5f1b558"
   },
   "outputs": [
    {
     "data": {
      "text/plain": [
       "0.9500574052812859"
      ]
     },
     "execution_count": 42,
     "metadata": {},
     "output_type": "execute_result"
    }
   ],
   "source": [
    "train_knn"
   ]
  },
  {
   "cell_type": "code",
   "execution_count": null,
   "metadata": {
    "cell_id": "00037-d6f58722-0111-4d83-9ec1-92dbd0191753",
    "deepnote_cell_height": 118.1875,
    "deepnote_cell_type": "code",
    "deepnote_output_heights": [
     21.1875
    ],
    "deepnote_to_be_reexecuted": false,
    "execution_millis": 121,
    "execution_start": 1650253245683,
    "source_hash": "89278ae5"
   },
   "outputs": [
    {
     "data": {
      "text/plain": [
       "0.9322617680826636"
      ]
     },
     "execution_count": 43,
     "metadata": {},
     "output_type": "execute_result"
    }
   ],
   "source": [
    "test_knn"
   ]
  },
  {
   "cell_type": "code",
   "execution_count": null,
   "metadata": {
    "cell_id": "b07bd6f4adcc4bb290e9f1ab37bb9628",
    "deepnote_cell_height": 81,
    "deepnote_cell_type": "code",
    "deepnote_to_be_reexecuted": false,
    "execution_millis": 0,
    "execution_start": 1650253245747,
    "source_hash": "b623e53d",
    "tags": []
   },
   "outputs": [],
   "source": []
  },
  {
   "cell_type": "code",
   "execution_count": null,
   "metadata": {
    "cell_id": "ecd0c9e1ab4540d8a2960eee58f5e589",
    "deepnote_cell_height": 172.1875,
    "deepnote_cell_type": "code",
    "deepnote_output_heights": [
     21.1875
    ],
    "deepnote_to_be_reexecuted": false,
    "execution_millis": 61,
    "execution_start": 1650253245748,
    "source_hash": "f8fcb9d4",
    "tags": []
   },
   "outputs": [
    {
     "data": {
      "text/plain": [
       "[0.9851851851851852, 0.989247311827957, 0.5339805825242718]"
      ]
     },
     "execution_count": 44,
     "metadata": {},
     "output_type": "execute_result"
    }
   ],
   "source": [
    "m_knn = confusion_matrix(test_y, y_pred)\n",
    "knn_byclass = m_knn.diagonal()/m_knn.sum(axis=1)\n",
    "knn_byclass = knn_byclass.tolist()\n",
    "knn_byclass"
   ]
  },
  {
   "cell_type": "code",
   "execution_count": null,
   "metadata": {
    "cell_id": "be7d37330e3344c4b3cefec78bdbf350",
    "deepnote_cell_height": 118.1875,
    "deepnote_cell_type": "code",
    "deepnote_output_heights": [
     21.1875
    ],
    "deepnote_to_be_reexecuted": false,
    "execution_millis": 60,
    "execution_start": 1650253245749,
    "source_hash": "b68308d",
    "tags": []
   },
   "outputs": [
    {
     "data": {
      "text/plain": [
       "0.989247311827957"
      ]
     },
     "execution_count": 45,
     "metadata": {},
     "output_type": "execute_result"
    }
   ],
   "source": [
    "knn_byclass[1]"
   ]
  },
  {
   "cell_type": "markdown",
   "metadata": {
    "cell_id": "00038-c9e8df1b-651d-47ed-a1db-d698de117de2",
    "deepnote_cell_height": 62,
    "deepnote_cell_type": "markdown"
   },
   "source": [
    "### Decision tree"
   ]
  },
  {
   "cell_type": "code",
   "execution_count": null,
   "metadata": {
    "cell_id": "00039-be32bbb2-f49c-46e0-99c6-3f8244dd2743",
    "deepnote_cell_height": 315,
    "deepnote_cell_type": "code",
    "deepnote_to_be_reexecuted": false,
    "execution_millis": 81,
    "execution_start": 1650253245750,
    "source_hash": "350985fc"
   },
   "outputs": [],
   "source": [
    "from sklearn.tree import DecisionTreeClassifier\n",
    "\n",
    "tr_model = DecisionTreeClassifier(\n",
    "                random_state=42, \n",
    "                criterion='entropy',\n",
    "                splitter='best', \n",
    "                max_depth=5, \n",
    "                min_samples_split=2)\n",
    "\n",
    "tr_model.fit(train_X, train_y)\n",
    "y_pred = tr_model.predict(test_X)\n",
    "\n",
    "train_tr = tr_model.score(train_X, train_y)\n",
    "test_tr = tr_model.score(test_X, test_y)"
   ]
  },
  {
   "cell_type": "code",
   "execution_count": null,
   "metadata": {
    "cell_id": "00040-c94c250d-3627-410d-b170-14746397ef9c",
    "deepnote_cell_height": 118.1875,
    "deepnote_cell_type": "code",
    "deepnote_output_heights": [
     21.1875
    ],
    "deepnote_to_be_reexecuted": false,
    "execution_millis": 11,
    "execution_start": 1650253245840,
    "source_hash": "e7988f76"
   },
   "outputs": [
    {
     "data": {
      "text/plain": [
       "0.9512055109070034"
      ]
     },
     "execution_count": 47,
     "metadata": {},
     "output_type": "execute_result"
    }
   ],
   "source": [
    "train_tr"
   ]
  },
  {
   "cell_type": "code",
   "execution_count": null,
   "metadata": {
    "cell_id": "00041-c5f0b0ad-f19e-4939-9fc5-ae7ba9a83631",
    "deepnote_cell_height": 118.1875,
    "deepnote_cell_type": "code",
    "deepnote_output_heights": [
     21.1875
    ],
    "deepnote_to_be_reexecuted": false,
    "execution_millis": 3,
    "execution_start": 1650253245891,
    "source_hash": "91ea4f51"
   },
   "outputs": [
    {
     "data": {
      "text/plain": [
       "0.9357060849598163"
      ]
     },
     "execution_count": 48,
     "metadata": {},
     "output_type": "execute_result"
    }
   ],
   "source": [
    "test_tr"
   ]
  },
  {
   "cell_type": "code",
   "execution_count": null,
   "metadata": {
    "cell_id": "00042-d6b8badc-c40a-40f6-b8b1-c9cc4b103baa",
    "deepnote_cell_height": 315,
    "deepnote_cell_type": "code",
    "deepnote_to_be_reexecuted": false,
    "execution_millis": 7867,
    "execution_start": 1650253245892,
    "source_hash": "7b06dfec"
   },
   "outputs": [],
   "source": [
    "from sklearn.model_selection import GridSearchCV\n",
    "\n",
    "param_grid = {\n",
    "                'min_samples_split': [2, 3, 4, 5, 6, 7, 8], \n",
    "                'max_depth': [2, 5, 7, 9],\n",
    "             }\n",
    "\n",
    "grid_clf_tr = GridSearchCV(tr_model, param_grid, cv=10, n_jobs=-1, refit = True)\n",
    "grid_clf_tr.fit(train_X, train_y)\n",
    "\n",
    "y_pred = grid_clf_tr.predict(test_X)\n",
    "\n",
    "train_tr = grid_clf_tr.score(train_X, train_y)\n",
    "test_tr = grid_clf_tr.score(test_X, test_y)"
   ]
  },
  {
   "cell_type": "code",
   "execution_count": null,
   "metadata": {
    "cell_id": "00043-ff8dcbd8-8ccd-4983-af77-2467a1da149a",
    "deepnote_cell_height": 118.1875,
    "deepnote_cell_type": "code",
    "deepnote_output_heights": [
     21.1875
    ],
    "deepnote_to_be_reexecuted": false,
    "execution_millis": 258,
    "execution_start": 1650253253765,
    "source_hash": "958d7532"
   },
   "outputs": [
    {
     "data": {
      "text/plain": [
       "DecisionTreeClassifier(criterion='entropy', max_depth=5, random_state=42)"
      ]
     },
     "execution_count": 50,
     "metadata": {},
     "output_type": "execute_result"
    }
   ],
   "source": [
    "grid_clf_tr.best_estimator_"
   ]
  },
  {
   "cell_type": "code",
   "execution_count": null,
   "metadata": {
    "cell_id": "00044-165b5844-1c09-4cd8-a405-1a889891f248",
    "deepnote_cell_height": 118.1875,
    "deepnote_cell_type": "code",
    "deepnote_output_heights": [
     21.1875
    ],
    "deepnote_to_be_reexecuted": false,
    "execution_millis": 253,
    "execution_start": 1650253253771,
    "source_hash": "e7988f76"
   },
   "outputs": [
    {
     "data": {
      "text/plain": [
       "0.9512055109070034"
      ]
     },
     "execution_count": 51,
     "metadata": {},
     "output_type": "execute_result"
    }
   ],
   "source": [
    "train_tr"
   ]
  },
  {
   "cell_type": "code",
   "execution_count": null,
   "metadata": {
    "cell_id": "00045-4df7789a-9290-4bf0-9099-20fa8f174bd5",
    "deepnote_cell_height": 118.1875,
    "deepnote_cell_type": "code",
    "deepnote_output_heights": [
     21.1875
    ],
    "deepnote_to_be_reexecuted": false,
    "execution_millis": 247,
    "execution_start": 1650253253777,
    "source_hash": "cf6b08bc"
   },
   "outputs": [
    {
     "data": {
      "text/plain": [
       "0.9357060849598163"
      ]
     },
     "execution_count": 52,
     "metadata": {},
     "output_type": "execute_result"
    }
   ],
   "source": [
    "test_tr "
   ]
  },
  {
   "cell_type": "code",
   "execution_count": null,
   "metadata": {
    "cell_id": "48514c6601c8405b944a65dd8ff0bc2c",
    "deepnote_cell_height": 172.1875,
    "deepnote_cell_type": "code",
    "deepnote_output_heights": [
     21.1875
    ],
    "deepnote_to_be_reexecuted": false,
    "execution_millis": 202,
    "execution_start": 1650253253823,
    "source_hash": "f8deabe2",
    "tags": []
   },
   "outputs": [
    {
     "data": {
      "text/plain": [
       "[0.9851851851851852, 1.0, 0.5533980582524272]"
      ]
     },
     "execution_count": 53,
     "metadata": {},
     "output_type": "execute_result"
    }
   ],
   "source": [
    "m_tr = confusion_matrix(test_y, y_pred)\n",
    "tr_byclass = m_tr.diagonal()/m_tr.sum(axis=1)\n",
    "tr_byclass = tr_byclass.tolist()\n",
    "tr_byclass"
   ]
  },
  {
   "cell_type": "markdown",
   "metadata": {
    "cell_id": "00046-c21bfa8b-ae6e-4172-b7db-644066497ef5",
    "deepnote_cell_height": 62,
    "deepnote_cell_type": "markdown"
   },
   "source": [
    "### Random forest"
   ]
  },
  {
   "cell_type": "code",
   "execution_count": null,
   "metadata": {
    "cell_id": "00047-c5c8a058-d37f-410a-ab16-426e539d5021",
    "deepnote_cell_height": 315,
    "deepnote_cell_type": "code",
    "deepnote_to_be_reexecuted": false,
    "execution_millis": 1273,
    "execution_start": 1650253253875,
    "source_hash": "833a5aa2"
   },
   "outputs": [],
   "source": [
    "from sklearn.ensemble import RandomForestClassifier\n",
    "\n",
    "rf_model = RandomForestClassifier(\n",
    "    n_estimators=100,\n",
    "    random_state=42, \n",
    "    criterion='entropy',\n",
    "    max_depth=8, \n",
    "    min_samples_split=2)\n",
    "\n",
    "rf_model.fit(train_X, train_y)\n",
    "y_pred = rf_model.predict(test_X)\n",
    "\n",
    "train_rf = rf_model.score(train_X, train_y)\n",
    "test_rf = rf_model.score(test_X, test_y)"
   ]
  },
  {
   "cell_type": "code",
   "execution_count": null,
   "metadata": {
    "cell_id": "00048-965be26a-48e1-4394-b57a-ce94da13758f",
    "deepnote_cell_height": 118.1875,
    "deepnote_cell_type": "code",
    "deepnote_output_heights": [
     21.1875
    ],
    "deepnote_to_be_reexecuted": false,
    "execution_millis": 5,
    "execution_start": 1650253255152,
    "source_hash": "709212c6"
   },
   "outputs": [
    {
     "data": {
      "text/plain": [
       "0.9718714121699197"
      ]
     },
     "execution_count": 55,
     "metadata": {},
     "output_type": "execute_result"
    }
   ],
   "source": [
    "train_rf"
   ]
  },
  {
   "cell_type": "code",
   "execution_count": null,
   "metadata": {
    "cell_id": "00049-ee6663ef-87e2-41a0-98da-ee47ada08fbc",
    "deepnote_cell_height": 118.1875,
    "deepnote_cell_type": "code",
    "deepnote_output_heights": [
     21.1875
    ],
    "deepnote_to_be_reexecuted": false,
    "execution_millis": 4,
    "execution_start": 1650253255157,
    "source_hash": "d46578f9"
   },
   "outputs": [
    {
     "data": {
      "text/plain": [
       "0.9437428243398392"
      ]
     },
     "execution_count": 56,
     "metadata": {},
     "output_type": "execute_result"
    }
   ],
   "source": [
    "test_rf"
   ]
  },
  {
   "cell_type": "code",
   "execution_count": null,
   "metadata": {
    "cell_id": "00050-b3ebb726-fb8f-4e34-83dc-93218bf02792",
    "deepnote_cell_height": 315,
    "deepnote_cell_type": "code",
    "deepnote_to_be_reexecuted": false,
    "execution_millis": 101494,
    "execution_start": 1650253255167,
    "source_hash": "58869b75"
   },
   "outputs": [],
   "source": [
    "from sklearn.model_selection import GridSearchCV\n",
    "\n",
    "param_grid = {\n",
    "                'n_estimators': [5, 10, 15, 20, 25, 30, 35, 40, 50, 100],\n",
    "                'max_depth': [2, 3, 4, 5, 7, 8],\n",
    "             }\n",
    "\n",
    "grid_clf_rf = GridSearchCV(rf_model, param_grid, cv=10, n_jobs=-1, refit = True)\n",
    "grid_clf_rf.fit(train_X, train_y)\n",
    "\n",
    "y_pred = grid_clf_rf.predict(test_X)\n",
    "\n",
    "train_rf = grid_clf_rf.score(train_X, train_y)\n",
    "test_rf = grid_clf_rf.score(test_X, test_y)"
   ]
  },
  {
   "cell_type": "code",
   "execution_count": null,
   "metadata": {
    "cell_id": "00051-cf693fc0-fc39-460b-882d-866a2ae08de1",
    "deepnote_cell_height": 137.390625,
    "deepnote_cell_type": "code",
    "deepnote_output_heights": [
     40.390625
    ],
    "deepnote_to_be_reexecuted": false,
    "execution_millis": 4,
    "execution_start": 1650253356661,
    "source_hash": "4816b673"
   },
   "outputs": [
    {
     "data": {
      "text/plain": [
       "RandomForestClassifier(criterion='entropy', max_depth=8, n_estimators=25,\n",
       "                       random_state=42)"
      ]
     },
     "execution_count": 58,
     "metadata": {},
     "output_type": "execute_result"
    }
   ],
   "source": [
    "grid_clf_rf.best_estimator_"
   ]
  },
  {
   "cell_type": "code",
   "execution_count": null,
   "metadata": {
    "cell_id": "00052-54bf8c07-4755-42e9-afda-a3bbbddb45a2",
    "deepnote_cell_height": 118.1875,
    "deepnote_cell_type": "code",
    "deepnote_output_heights": [
     21.1875
    ],
    "deepnote_to_be_reexecuted": false,
    "execution_millis": 3,
    "execution_start": 1650253356662,
    "source_hash": "709212c6"
   },
   "outputs": [
    {
     "data": {
      "text/plain": [
       "0.9724454649827784"
      ]
     },
     "execution_count": 59,
     "metadata": {},
     "output_type": "execute_result"
    }
   ],
   "source": [
    "train_rf"
   ]
  },
  {
   "cell_type": "code",
   "execution_count": null,
   "metadata": {
    "cell_id": "00053-8f12bfb0-bb73-46ce-bbf5-af25b07bb56a",
    "deepnote_cell_height": 118.1875,
    "deepnote_cell_type": "code",
    "deepnote_output_heights": [
     21.1875
    ],
    "deepnote_to_be_reexecuted": false,
    "execution_millis": 0,
    "execution_start": 1650253356663,
    "source_hash": "d46578f9"
   },
   "outputs": [
    {
     "data": {
      "text/plain": [
       "0.939150401836969"
      ]
     },
     "execution_count": 60,
     "metadata": {},
     "output_type": "execute_result"
    }
   ],
   "source": [
    "test_rf"
   ]
  },
  {
   "cell_type": "code",
   "execution_count": null,
   "metadata": {
    "cell_id": "7f3e73b33ed24703aa7ea2d6b76bc3bf",
    "deepnote_cell_height": 172.1875,
    "deepnote_cell_type": "code",
    "deepnote_output_heights": [
     21.1875
    ],
    "deepnote_to_be_reexecuted": false,
    "execution_millis": 2,
    "execution_start": 1650253356704,
    "source_hash": "146476bd",
    "tags": []
   },
   "outputs": [
    {
     "data": {
      "text/plain": [
       "[0.9925925925925926, 0.978494623655914, 0.5533980582524272]"
      ]
     },
     "execution_count": 61,
     "metadata": {},
     "output_type": "execute_result"
    }
   ],
   "source": [
    "m_rf = confusion_matrix(test_y, y_pred)\n",
    "rf_byclass = m_rf.diagonal()/m_rf.sum(axis=1)\n",
    "rf_byclass = rf_byclass.tolist()\n",
    "rf_byclass"
   ]
  },
  {
   "cell_type": "code",
   "execution_count": null,
   "metadata": {
    "cell_id": "f743c306fdc947d6b5bd19cacd9ff8c3",
    "deepnote_cell_height": 561.1875,
    "deepnote_cell_type": "code",
    "deepnote_output_heights": [
     21.1875,
     250
    ],
    "deepnote_to_be_reexecuted": false,
    "execution_millis": 664,
    "execution_start": 1650255243779,
    "source_hash": "970d2df9",
    "tags": []
   },
   "outputs": [
    {
     "data": {
      "text/plain": [
       "<AxesSubplot:>"
      ]
     },
     "execution_count": 63,
     "metadata": {},
     "output_type": "execute_result"
    },
    {
     "data": {
      "image/png": "[encoded data removed]",
      "text/plain": [
       "<Figure size 432x288 with 1 Axes>"
      ]
     },
     "metadata": {
      "image/png": {
       "height": 248,
       "width": 452
      },
      "needs_background": "light"
     },
     "output_type": "display_data"
    }
   ],
   "source": [
    "model = RandomForestClassifier(\n",
    "    criterion='entropy', max_depth=8, n_estimators=25,\n",
    "    random_state=42)\n",
    "\n",
    "model.fit(train_X,train_y)\n",
    "y_pred = model.predict(test_X)\n",
    "\n",
    "feat_importance = model.feature_importances_\n",
    "pd.DataFrame({'Feature Importance':feat_importance},\n",
    "            index=list(train_X)).sort_values('Feature Importance').plot(kind='barh')"
   ]
  },
  {
   "cell_type": "code",
   "execution_count": null,
   "metadata": {
    "cell_id": "0d99568d1bfe4355873efef6e6aee41e",
    "deepnote_cell_height": 156.578125,
    "deepnote_cell_type": "code",
    "deepnote_output_heights": [
     59.578125
    ],
    "deepnote_to_be_reexecuted": false,
    "execution_millis": 8,
    "execution_start": 1650255249171,
    "source_hash": "449264a1",
    "tags": []
   },
   "outputs": [
    {
     "data": {
      "text/plain": [
       "array([0.02249723, 0.1440194 , 0.15973443, 0.03160924, 0.14123325,\n",
       "       0.14919882, 0.06241807, 0.01456257, 0.01883171, 0.01586683,\n",
       "       0.22857516, 0.00837176, 0.00220769, 0.00087381])"
      ]
     },
     "execution_count": 64,
     "metadata": {},
     "output_type": "execute_result"
    }
   ],
   "source": [
    "feat_importance"
   ]
  },
  {
   "cell_type": "code",
   "execution_count": null,
   "metadata": {
    "cell_id": "33564574990c4df4978969698564b6c8",
    "deepnote_cell_height": 66,
    "deepnote_cell_type": "code",
    "tags": []
   },
   "outputs": [],
   "source": []
  },
  {
   "cell_type": "markdown",
   "metadata": {
    "cell_id": "00054-35173f75-bd5e-4232-a977-af8316b05d87",
    "deepnote_cell_height": 62,
    "deepnote_cell_type": "markdown"
   },
   "source": [
    "### Logistic regression"
   ]
  },
  {
   "cell_type": "code",
   "execution_count": null,
   "metadata": {
    "cell_id": "00055-ebfffe0e-c3a9-4126-b008-ffc0c413cd4a",
    "deepnote_cell_height": 207,
    "deepnote_cell_type": "code",
    "deepnote_to_be_reexecuted": false,
    "execution_millis": 35,
    "execution_start": 1650255254836,
    "source_hash": "625d01fd"
   },
   "outputs": [],
   "source": [
    "from sklearn.linear_model import LogisticRegression\n",
    "\n",
    "log_model = LogisticRegression(solver='liblinear',multi_class=\"auto\")\n",
    "log_model.fit(train_X, train_y)\n",
    "y_pred = log_model.predict(test_X)\n",
    "\n",
    "train_log = log_model.score(train_X, train_y)\n",
    "test_log = log_model.score(test_X, test_y)"
   ]
  },
  {
   "cell_type": "code",
   "execution_count": null,
   "metadata": {
    "cell_id": "00056-0b6597cf-eab8-48bf-ad59-2a668afb91c9",
    "deepnote_cell_height": 118.1875,
    "deepnote_cell_type": "code",
    "deepnote_output_heights": [
     21.1875
    ],
    "deepnote_to_be_reexecuted": false,
    "execution_millis": 34,
    "execution_start": 1650255256397,
    "source_hash": "2e2557e1"
   },
   "outputs": [
    {
     "data": {
      "text/plain": [
       "0.939150401836969"
      ]
     },
     "execution_count": 66,
     "metadata": {},
     "output_type": "execute_result"
    }
   ],
   "source": [
    "train_log"
   ]
  },
  {
   "cell_type": "code",
   "execution_count": null,
   "metadata": {
    "cell_id": "00057-b4ef0aa6-83c0-4160-b5d9-4ab998562875",
    "deepnote_cell_height": 118.1875,
    "deepnote_cell_type": "code",
    "deepnote_output_heights": [
     21.1875
    ],
    "deepnote_to_be_reexecuted": false,
    "execution_millis": 8,
    "execution_start": 1650255259330,
    "source_hash": "6297f401"
   },
   "outputs": [
    {
     "data": {
      "text/plain": [
       "0.939150401836969"
      ]
     },
     "execution_count": 67,
     "metadata": {},
     "output_type": "execute_result"
    }
   ],
   "source": [
    "test_log"
   ]
  },
  {
   "cell_type": "code",
   "execution_count": null,
   "metadata": {
    "cell_id": "da92f4b315e64c3f80cc63212fd98204",
    "deepnote_cell_height": 172.1875,
    "deepnote_cell_type": "code",
    "deepnote_output_heights": [
     21.1875
    ],
    "deepnote_to_be_reexecuted": false,
    "execution_millis": 676,
    "execution_start": 1650255265366,
    "source_hash": "8a1cf969",
    "tags": []
   },
   "outputs": [
    {
     "data": {
      "text/plain": [
       "[0.9837037037037037, 1.0, 0.5922330097087378]"
      ]
     },
     "execution_count": 68,
     "metadata": {},
     "output_type": "execute_result"
    }
   ],
   "source": [
    "m_log = confusion_matrix(test_y, y_pred)\n",
    "log_byclass = m_log.diagonal()/m_log.sum(axis=1)\n",
    "log_byclass = log_byclass.tolist()\n",
    "log_byclass"
   ]
  },
  {
   "cell_type": "markdown",
   "metadata": {
    "cell_id": "00058-07e96a4e-9fbc-4c51-b053-599587ea7650",
    "deepnote_cell_height": 62,
    "deepnote_cell_type": "markdown",
    "owner_user_id": "3916495e-342f-4dc7-9c74-442bb287e020"
   },
   "source": [
    "### AdaBoost"
   ]
  },
  {
   "cell_type": "code",
   "execution_count": null,
   "metadata": {
    "cell_id": "00059-825708fe-22fb-4531-8821-cc12cf8ae8f8",
    "deepnote_cell_height": 279,
    "deepnote_cell_type": "code",
    "deepnote_to_be_reexecuted": false,
    "execution_millis": 2299,
    "execution_start": 1650259203643,
    "source_hash": "adc1cd72"
   },
   "outputs": [],
   "source": [
    "from sklearn.ensemble import AdaBoostClassifier\n",
    "\n",
    "adb_model = AdaBoostClassifier(\n",
    "    n_estimators=150,\n",
    "    learning_rate=0.4,\n",
    "    random_state=42)\n",
    "\n",
    "adb_model.fit(train_X, train_y)\n",
    "y_pred = adb_model.predict(test_X)\n",
    "\n",
    "train_adb = adb_model.score(train_X, train_y)\n",
    "test_adb = adb_model.score(test_X, test_y)"
   ]
  },
  {
   "cell_type": "code",
   "execution_count": null,
   "metadata": {
    "cell_id": "00060-fb127aeb-24d1-4af6-8fe9-6dae3b72c6c9",
    "deepnote_cell_height": 118.1875,
    "deepnote_cell_type": "code",
    "deepnote_output_heights": [
     21.1875
    ],
    "deepnote_to_be_reexecuted": false,
    "execution_millis": 67873,
    "execution_start": 1650259205957,
    "source_hash": "473248f1"
   },
   "outputs": [
    {
     "data": {
      "text/plain": [
       "0.9110218140068886"
      ]
     },
     "execution_count": 38,
     "metadata": {},
     "output_type": "execute_result"
    }
   ],
   "source": [
    "train_adb"
   ]
  },
  {
   "cell_type": "code",
   "execution_count": null,
   "metadata": {
    "cell_id": "00061-53778353-db8b-435d-80b2-96c68c3baaac",
    "deepnote_cell_height": 118.1875,
    "deepnote_cell_type": "code",
    "deepnote_output_heights": [
     21.1875
    ],
    "deepnote_to_be_reexecuted": false,
    "execution_millis": 10,
    "execution_start": 1650259207930,
    "source_hash": "478df75f"
   },
   "outputs": [
    {
     "data": {
      "text/plain": [
       "0.9024110218140069"
      ]
     },
     "execution_count": 39,
     "metadata": {},
     "output_type": "execute_result"
    }
   ],
   "source": [
    "test_adb"
   ]
  },
  {
   "cell_type": "code",
   "execution_count": null,
   "metadata": {
    "cell_id": "00062-a6a3a61e-0d7a-444f-b09e-6601a5a6a083",
    "deepnote_cell_height": 360.1875,
    "deepnote_cell_type": "code",
    "deepnote_to_be_reexecuted": false,
    "execution_millis": 57173,
    "execution_start": 1650259212791,
    "source_hash": "1115d01c"
   },
   "outputs": [
    {
     "ename": "KeyboardInterrupt",
     "evalue": "",
     "output_type": "error",
     "traceback": [
      "\u001b[0;31m---------------------------------------------------------------------------\u001b[0m",
      "\u001b[0;31mKeyboardInterrupt\u001b[0m                         Traceback (most recent call last)",
      "\u001b[0;32m<ipython-input-40-3f2f9b838751>\u001b[0m in \u001b[0;36m<module>\u001b[0;34m\u001b[0m\n\u001b[1;32m      6\u001b[0m \u001b[0;34m\u001b[0m\u001b[0m\n\u001b[1;32m      7\u001b[0m \u001b[0mgrid_clf_adb\u001b[0m \u001b[0;34m=\u001b[0m \u001b[0mGridSearchCV\u001b[0m\u001b[0;34m(\u001b[0m\u001b[0madb_model\u001b[0m\u001b[0;34m,\u001b[0m \u001b[0mparam_grid\u001b[0m\u001b[0;34m,\u001b[0m \u001b[0mcv\u001b[0m\u001b[0;34m=\u001b[0m\u001b[0;36m10\u001b[0m\u001b[0;34m,\u001b[0m \u001b[0mn_jobs\u001b[0m\u001b[0;34m=\u001b[0m\u001b[0;34m-\u001b[0m\u001b[0;36m1\u001b[0m\u001b[0;34m,\u001b[0m \u001b[0mrefit\u001b[0m \u001b[0;34m=\u001b[0m \u001b[0;32mTrue\u001b[0m\u001b[0;34m)\u001b[0m\u001b[0;34m\u001b[0m\u001b[0;34m\u001b[0m\u001b[0m\n\u001b[0;32m----> 8\u001b[0;31m \u001b[0mgrid_clf_adb\u001b[0m\u001b[0;34m.\u001b[0m\u001b[0mfit\u001b[0m\u001b[0;34m(\u001b[0m\u001b[0mtrain_X\u001b[0m\u001b[0;34m,\u001b[0m \u001b[0mtrain_y\u001b[0m\u001b[0;34m)\u001b[0m\u001b[0;34m\u001b[0m\u001b[0;34m\u001b[0m\u001b[0m\n\u001b[0m\u001b[1;32m      9\u001b[0m \u001b[0;34m\u001b[0m\u001b[0m\n\u001b[1;32m     10\u001b[0m \u001b[0my_pred\u001b[0m \u001b[0;34m=\u001b[0m \u001b[0mgrid_clf_adb\u001b[0m\u001b[0;34m.\u001b[0m\u001b[0mpredict\u001b[0m\u001b[0;34m(\u001b[0m\u001b[0mtest_X\u001b[0m\u001b[0;34m)\u001b[0m\u001b[0;34m\u001b[0m\u001b[0;34m\u001b[0m\u001b[0m\n",
      "\u001b[0;32m/shared-libs/python3.7/py/lib/python3.7/site-packages/sklearn/model_selection/_search.py\u001b[0m in \u001b[0;36mfit\u001b[0;34m(self, X, y, groups, **fit_params)\u001b[0m\n\u001b[1;32m    889\u001b[0m                 \u001b[0;32mreturn\u001b[0m \u001b[0mresults\u001b[0m\u001b[0;34m\u001b[0m\u001b[0;34m\u001b[0m\u001b[0m\n\u001b[1;32m    890\u001b[0m \u001b[0;34m\u001b[0m\u001b[0m\n\u001b[0;32m--> 891\u001b[0;31m             \u001b[0mself\u001b[0m\u001b[0;34m.\u001b[0m\u001b[0m_run_search\u001b[0m\u001b[0;34m(\u001b[0m\u001b[0mevaluate_candidates\u001b[0m\u001b[0;34m)\u001b[0m\u001b[0;34m\u001b[0m\u001b[0;34m\u001b[0m\u001b[0m\n\u001b[0m\u001b[1;32m    892\u001b[0m \u001b[0;34m\u001b[0m\u001b[0m\n\u001b[1;32m    893\u001b[0m             \u001b[0;31m# multimetric is determined here because in the case of a callable\u001b[0m\u001b[0;34m\u001b[0m\u001b[0;34m\u001b[0m\u001b[0;34m\u001b[0m\u001b[0m\n",
      "\u001b[0;32m/shared-libs/python3.7/py/lib/python3.7/site-packages/sklearn/model_selection/_search.py\u001b[0m in \u001b[0;36m_run_search\u001b[0;34m(self, evaluate_candidates)\u001b[0m\n\u001b[1;32m   1390\u001b[0m     \u001b[0;32mdef\u001b[0m \u001b[0m_run_search\u001b[0m\u001b[0;34m(\u001b[0m\u001b[0mself\u001b[0m\u001b[0;34m,\u001b[0m \u001b[0mevaluate_candidates\u001b[0m\u001b[0;34m)\u001b[0m\u001b[0;34m:\u001b[0m\u001b[0;34m\u001b[0m\u001b[0;34m\u001b[0m\u001b[0m\n\u001b[1;32m   1391\u001b[0m         \u001b[0;34m\"\"\"Search all candidates in param_grid\"\"\"\u001b[0m\u001b[0;34m\u001b[0m\u001b[0;34m\u001b[0m\u001b[0m\n\u001b[0;32m-> 1392\u001b[0;31m         \u001b[0mevaluate_candidates\u001b[0m\u001b[0;34m(\u001b[0m\u001b[0mParameterGrid\u001b[0m\u001b[0;34m(\u001b[0m\u001b[0mself\u001b[0m\u001b[0;34m.\u001b[0m\u001b[0mparam_grid\u001b[0m\u001b[0;34m)\u001b[0m\u001b[0;34m)\u001b[0m\u001b[0;34m\u001b[0m\u001b[0;34m\u001b[0m\u001b[0m\n\u001b[0m\u001b[1;32m   1393\u001b[0m \u001b[0;34m\u001b[0m\u001b[0m\n\u001b[1;32m   1394\u001b[0m \u001b[0;34m\u001b[0m\u001b[0m\n",
      "\u001b[0;32m/shared-libs/python3.7/py/lib/python3.7/site-packages/sklearn/model_selection/_search.py\u001b[0m in \u001b[0;36mevaluate_candidates\u001b[0;34m(candidate_params, cv, more_results)\u001b[0m\n\u001b[1;32m    849\u001b[0m                     )\n\u001b[1;32m    850\u001b[0m                     for (cand_idx, parameters), (split_idx, (train, test)) in product(\n\u001b[0;32m--> 851\u001b[0;31m                         \u001b[0menumerate\u001b[0m\u001b[0;34m(\u001b[0m\u001b[0mcandidate_params\u001b[0m\u001b[0;34m)\u001b[0m\u001b[0;34m,\u001b[0m \u001b[0menumerate\u001b[0m\u001b[0;34m(\u001b[0m\u001b[0mcv\u001b[0m\u001b[0;34m.\u001b[0m\u001b[0msplit\u001b[0m\u001b[0;34m(\u001b[0m\u001b[0mX\u001b[0m\u001b[0;34m,\u001b[0m \u001b[0my\u001b[0m\u001b[0;34m,\u001b[0m \u001b[0mgroups\u001b[0m\u001b[0;34m)\u001b[0m\u001b[0;34m)\u001b[0m\u001b[0;34m\u001b[0m\u001b[0;34m\u001b[0m\u001b[0m\n\u001b[0m\u001b[1;32m    852\u001b[0m                     )\n\u001b[1;32m    853\u001b[0m                 )\n",
      "\u001b[0;32m/shared-libs/python3.7/py/lib/python3.7/site-packages/joblib/parallel.py\u001b[0m in \u001b[0;36m__call__\u001b[0;34m(self, iterable)\u001b[0m\n\u001b[1;32m   1054\u001b[0m \u001b[0;34m\u001b[0m\u001b[0m\n\u001b[1;32m   1055\u001b[0m             \u001b[0;32mwith\u001b[0m \u001b[0mself\u001b[0m\u001b[0;34m.\u001b[0m\u001b[0m_backend\u001b[0m\u001b[0;34m.\u001b[0m\u001b[0mretrieval_context\u001b[0m\u001b[0;34m(\u001b[0m\u001b[0;34m)\u001b[0m\u001b[0;34m:\u001b[0m\u001b[0;34m\u001b[0m\u001b[0;34m\u001b[0m\u001b[0m\n\u001b[0;32m-> 1056\u001b[0;31m                 \u001b[0mself\u001b[0m\u001b[0;34m.\u001b[0m\u001b[0mretrieve\u001b[0m\u001b[0;34m(\u001b[0m\u001b[0;34m)\u001b[0m\u001b[0;34m\u001b[0m\u001b[0;34m\u001b[0m\u001b[0m\n\u001b[0m\u001b[1;32m   1057\u001b[0m             \u001b[0;31m# Make sure that we get a last message telling us we are done\u001b[0m\u001b[0;34m\u001b[0m\u001b[0;34m\u001b[0m\u001b[0;34m\u001b[0m\u001b[0m\n\u001b[1;32m   1058\u001b[0m             \u001b[0melapsed_time\u001b[0m \u001b[0;34m=\u001b[0m \u001b[0mtime\u001b[0m\u001b[0;34m.\u001b[0m\u001b[0mtime\u001b[0m\u001b[0;34m(\u001b[0m\u001b[0;34m)\u001b[0m \u001b[0;34m-\u001b[0m \u001b[0mself\u001b[0m\u001b[0;34m.\u001b[0m\u001b[0m_start_time\u001b[0m\u001b[0;34m\u001b[0m\u001b[0;34m\u001b[0m\u001b[0m\n",
      "\u001b[0;32m/shared-libs/python3.7/py/lib/python3.7/site-packages/joblib/parallel.py\u001b[0m in \u001b[0;36mretrieve\u001b[0;34m(self)\u001b[0m\n\u001b[1;32m    933\u001b[0m             \u001b[0;32mtry\u001b[0m\u001b[0;34m:\u001b[0m\u001b[0;34m\u001b[0m\u001b[0;34m\u001b[0m\u001b[0m\n\u001b[1;32m    934\u001b[0m                 \u001b[0;32mif\u001b[0m \u001b[0mgetattr\u001b[0m\u001b[0;34m(\u001b[0m\u001b[0mself\u001b[0m\u001b[0;34m.\u001b[0m\u001b[0m_backend\u001b[0m\u001b[0;34m,\u001b[0m \u001b[0;34m'supports_timeout'\u001b[0m\u001b[0;34m,\u001b[0m \u001b[0;32mFalse\u001b[0m\u001b[0;34m)\u001b[0m\u001b[0;34m:\u001b[0m\u001b[0;34m\u001b[0m\u001b[0;34m\u001b[0m\u001b[0m\n\u001b[0;32m--> 935\u001b[0;31m                     \u001b[0mself\u001b[0m\u001b[0;34m.\u001b[0m\u001b[0m_output\u001b[0m\u001b[0;34m.\u001b[0m\u001b[0mextend\u001b[0m\u001b[0;34m(\u001b[0m\u001b[0mjob\u001b[0m\u001b[0;34m.\u001b[0m\u001b[0mget\u001b[0m\u001b[0;34m(\u001b[0m\u001b[0mtimeout\u001b[0m\u001b[0;34m=\u001b[0m\u001b[0mself\u001b[0m\u001b[0;34m.\u001b[0m\u001b[0mtimeout\u001b[0m\u001b[0;34m)\u001b[0m\u001b[0;34m)\u001b[0m\u001b[0;34m\u001b[0m\u001b[0;34m\u001b[0m\u001b[0m\n\u001b[0m\u001b[1;32m    936\u001b[0m                 \u001b[0;32melse\u001b[0m\u001b[0;34m:\u001b[0m\u001b[0;34m\u001b[0m\u001b[0;34m\u001b[0m\u001b[0m\n\u001b[1;32m    937\u001b[0m                     \u001b[0mself\u001b[0m\u001b[0;34m.\u001b[0m\u001b[0m_output\u001b[0m\u001b[0;34m.\u001b[0m\u001b[0mextend\u001b[0m\u001b[0;34m(\u001b[0m\u001b[0mjob\u001b[0m\u001b[0;34m.\u001b[0m\u001b[0mget\u001b[0m\u001b[0;34m(\u001b[0m\u001b[0;34m)\u001b[0m\u001b[0;34m)\u001b[0m\u001b[0;34m\u001b[0m\u001b[0;34m\u001b[0m\u001b[0m\n",
      "\u001b[0;32m/shared-libs/python3.7/py/lib/python3.7/site-packages/joblib/_parallel_backends.py\u001b[0m in \u001b[0;36mwrap_future_result\u001b[0;34m(future, timeout)\u001b[0m\n\u001b[1;32m    540\u001b[0m         AsyncResults.get from multiprocessing.\"\"\"\n\u001b[1;32m    541\u001b[0m         \u001b[0;32mtry\u001b[0m\u001b[0;34m:\u001b[0m\u001b[0;34m\u001b[0m\u001b[0;34m\u001b[0m\u001b[0m\n\u001b[0;32m--> 542\u001b[0;31m             \u001b[0;32mreturn\u001b[0m \u001b[0mfuture\u001b[0m\u001b[0;34m.\u001b[0m\u001b[0mresult\u001b[0m\u001b[0;34m(\u001b[0m\u001b[0mtimeout\u001b[0m\u001b[0;34m=\u001b[0m\u001b[0mtimeout\u001b[0m\u001b[0;34m)\u001b[0m\u001b[0;34m\u001b[0m\u001b[0;34m\u001b[0m\u001b[0m\n\u001b[0m\u001b[1;32m    543\u001b[0m         \u001b[0;32mexcept\u001b[0m \u001b[0mCfTimeoutError\u001b[0m \u001b[0;32mas\u001b[0m \u001b[0me\u001b[0m\u001b[0;34m:\u001b[0m\u001b[0;34m\u001b[0m\u001b[0;34m\u001b[0m\u001b[0m\n\u001b[1;32m    544\u001b[0m             \u001b[0;32mraise\u001b[0m \u001b[0mTimeoutError\u001b[0m \u001b[0;32mfrom\u001b[0m \u001b[0me\u001b[0m\u001b[0;34m\u001b[0m\u001b[0;34m\u001b[0m\u001b[0m\n",
      "\u001b[0;32m/usr/local/lib/python3.7/concurrent/futures/_base.py\u001b[0m in \u001b[0;36mresult\u001b[0;34m(self, timeout)\u001b[0m\n\u001b[1;32m    428\u001b[0m                 \u001b[0;32mreturn\u001b[0m \u001b[0mself\u001b[0m\u001b[0;34m.\u001b[0m\u001b[0m__get_result\u001b[0m\u001b[0;34m(\u001b[0m\u001b[0;34m)\u001b[0m\u001b[0;34m\u001b[0m\u001b[0;34m\u001b[0m\u001b[0m\n\u001b[1;32m    429\u001b[0m \u001b[0;34m\u001b[0m\u001b[0m\n\u001b[0;32m--> 430\u001b[0;31m             \u001b[0mself\u001b[0m\u001b[0;34m.\u001b[0m\u001b[0m_condition\u001b[0m\u001b[0;34m.\u001b[0m\u001b[0mwait\u001b[0m\u001b[0;34m(\u001b[0m\u001b[0mtimeout\u001b[0m\u001b[0;34m)\u001b[0m\u001b[0;34m\u001b[0m\u001b[0;34m\u001b[0m\u001b[0m\n\u001b[0m\u001b[1;32m    431\u001b[0m \u001b[0;34m\u001b[0m\u001b[0m\n\u001b[1;32m    432\u001b[0m             \u001b[0;32mif\u001b[0m \u001b[0mself\u001b[0m\u001b[0;34m.\u001b[0m\u001b[0m_state\u001b[0m \u001b[0;32min\u001b[0m \u001b[0;34m[\u001b[0m\u001b[0mCANCELLED\u001b[0m\u001b[0;34m,\u001b[0m \u001b[0mCANCELLED_AND_NOTIFIED\u001b[0m\u001b[0;34m]\u001b[0m\u001b[0;34m:\u001b[0m\u001b[0;34m\u001b[0m\u001b[0;34m\u001b[0m\u001b[0m\n",
      "\u001b[0;32m/usr/local/lib/python3.7/threading.py\u001b[0m in \u001b[0;36mwait\u001b[0;34m(self, timeout)\u001b[0m\n\u001b[1;32m    294\u001b[0m         \u001b[0;32mtry\u001b[0m\u001b[0;34m:\u001b[0m    \u001b[0;31m# restore state no matter what (e.g., KeyboardInterrupt)\u001b[0m\u001b[0;34m\u001b[0m\u001b[0;34m\u001b[0m\u001b[0m\n\u001b[1;32m    295\u001b[0m             \u001b[0;32mif\u001b[0m \u001b[0mtimeout\u001b[0m \u001b[0;32mis\u001b[0m \u001b[0;32mNone\u001b[0m\u001b[0;34m:\u001b[0m\u001b[0;34m\u001b[0m\u001b[0;34m\u001b[0m\u001b[0m\n\u001b[0;32m--> 296\u001b[0;31m                 \u001b[0mwaiter\u001b[0m\u001b[0;34m.\u001b[0m\u001b[0macquire\u001b[0m\u001b[0;34m(\u001b[0m\u001b[0;34m)\u001b[0m\u001b[0;34m\u001b[0m\u001b[0;34m\u001b[0m\u001b[0m\n\u001b[0m\u001b[1;32m    297\u001b[0m                 \u001b[0mgotit\u001b[0m \u001b[0;34m=\u001b[0m \u001b[0;32mTrue\u001b[0m\u001b[0;34m\u001b[0m\u001b[0;34m\u001b[0m\u001b[0m\n\u001b[1;32m    298\u001b[0m             \u001b[0;32melse\u001b[0m\u001b[0;34m:\u001b[0m\u001b[0;34m\u001b[0m\u001b[0;34m\u001b[0m\u001b[0m\n",
      "\u001b[0;31mKeyboardInterrupt\u001b[0m: "
     ]
    }
   ],
   "source": [
    "from sklearn.model_selection import GridSearchCV\n",
    "param_grid = {\n",
    "                 'n_estimators': [10, 15, 20, 25, 30, 35, 40, 50, 100, 150],\n",
    "                 'learning_rate': [0.2, 0.4, 0.5, 0.6, 0.8, 1],\n",
    "             }\n",
    "\n",
    "grid_clf_adb = GridSearchCV(adb_model, param_grid, cv=10, n_jobs=-1, refit = True)\n",
    "grid_clf_adb.fit(train_X, train_y)\n",
    "\n",
    "y_pred = grid_clf_adb.predict(test_X)\n",
    "\n",
    "train_adb = grid_clf_adb.score(train_X, train_y)\n",
    "test_adb = grid_clf_adb.score(test_X, test_y)"
   ]
  },
  {
   "cell_type": "code",
   "execution_count": null,
   "metadata": {
    "cell_id": "00063-1051e1f9-f8a8-47b2-8f25-81c518f60d01",
    "deepnote_cell_height": 118.1875,
    "deepnote_cell_type": "code",
    "deepnote_output_heights": [
     21.1875
    ],
    "deepnote_to_be_reexecuted": true,
    "execution_millis": 32403136,
    "execution_start": 1650255451220,
    "source_hash": "a2062b7b"
   },
   "outputs": [
    {
     "data": {
      "text/plain": [
       "AdaBoostClassifier(learning_rate=0.8, n_estimators=25, random_state=42)"
      ]
     },
     "execution_count": 73,
     "metadata": {},
     "output_type": "execute_result"
    }
   ],
   "source": [
    "grid_clf_adb.best_estimator_"
   ]
  },
  {
   "cell_type": "code",
   "execution_count": null,
   "metadata": {
    "cell_id": "00064-f7c08a6e-e0c8-4106-a974-de8a2f660059",
    "deepnote_cell_height": 118.1875,
    "deepnote_cell_type": "code",
    "deepnote_output_heights": [
     21.1875
    ],
    "deepnote_to_be_reexecuted": true,
    "execution_millis": 2,
    "execution_start": 1650255451223,
    "source_hash": "473248f1"
   },
   "outputs": [
    {
     "data": {
      "text/plain": [
       "0.919345579793341"
      ]
     },
     "execution_count": 74,
     "metadata": {},
     "output_type": "execute_result"
    }
   ],
   "source": [
    "train_adb"
   ]
  },
  {
   "cell_type": "code",
   "execution_count": null,
   "metadata": {
    "cell_id": "00065-608157fc-6a1b-4d2b-89d3-bf30bea2736e",
    "deepnote_cell_height": 118.1875,
    "deepnote_cell_type": "code",
    "deepnote_output_heights": [
     21.1875
    ],
    "deepnote_to_be_reexecuted": true,
    "execution_millis": 32403147,
    "execution_start": 1650255451247,
    "source_hash": "478df75f"
   },
   "outputs": [
    {
     "data": {
      "text/plain": [
       "0.9115958668197475"
      ]
     },
     "execution_count": 75,
     "metadata": {},
     "output_type": "execute_result"
    }
   ],
   "source": [
    "test_adb"
   ]
  },
  {
   "cell_type": "code",
   "execution_count": null,
   "metadata": {
    "cell_id": "bac5ae91bba543d281c5981715a95272",
    "deepnote_cell_height": 172.1875,
    "deepnote_cell_type": "code",
    "deepnote_output_heights": [
     21.1875
    ],
    "deepnote_to_be_reexecuted": true,
    "execution_millis": 32403121,
    "execution_start": 1650255451259,
    "source_hash": "281f8a93",
    "tags": []
   },
   "outputs": [
    {
     "data": {
      "text/plain": [
       "[0.9881481481481481, 0.8494623655913979, 0.46601941747572817]"
      ]
     },
     "execution_count": 76,
     "metadata": {},
     "output_type": "execute_result"
    }
   ],
   "source": [
    "m_ada = confusion_matrix(test_y, y_pred)\n",
    "ada_byclass = m_ada.diagonal()/m_ada.sum(axis=1)\n",
    "ada_byclass = ada_byclass.tolist()\n",
    "ada_byclass"
   ]
  },
  {
   "cell_type": "code",
   "execution_count": null,
   "metadata": {
    "cell_id": "c78a771178914f66836ab80a1cc81abf",
    "deepnote_cell_height": 525.1875,
    "deepnote_cell_type": "code",
    "deepnote_output_heights": [
     21.1875,
     250
    ],
    "deepnote_to_be_reexecuted": false,
    "execution_millis": 1306,
    "execution_start": 1650259276291,
    "source_hash": "df554467",
    "tags": []
   },
   "outputs": [
    {
     "data": {
      "text/plain": [
       "<AxesSubplot:>"
      ]
     },
     "execution_count": 41,
     "metadata": {},
     "output_type": "execute_result"
    },
    {
     "data": {
      "image/png": "[encoded data removed]",
      "text/plain": [
       "<Figure size 432x288 with 1 Axes>"
      ]
     },
     "metadata": {
      "image/png": {
       "height": 248,
       "width": 452
      },
      "needs_background": "light"
     },
     "output_type": "display_data"
    }
   ],
   "source": [
    "model = AdaBoostClassifier(learning_rate=0.8, n_estimators=25, random_state=42)\n",
    "\n",
    "model.fit(train_X,train_y)\n",
    "y_pred = model.predict(test_X)\n",
    "\n",
    "feat_importance = model.feature_importances_\n",
    "pd.DataFrame({'Feature Importance':feat_importance},\n",
    "            index=list(train_X)).sort_values('Feature Importance').plot(kind='barh')"
   ]
  },
  {
   "cell_type": "code",
   "execution_count": null,
   "metadata": {
    "cell_id": "d7c2c5aea46941d0a057d5429bf96840",
    "deepnote_cell_height": 174,
    "deepnote_cell_type": "code",
    "tags": []
   },
   "outputs": [],
   "source": [
    "from sklearn.ensemble import VotingClassifier\n",
    "\n",
    "\n",
    "clf1 = DecisionTreeClassifier(criterion='entropy', max_depth=5, random_state=42)\n",
    "clf2 = RandomForestClassifier(criterion='entropy', max_depth=8, n_estimators=25,\n",
    "                       random_state=42)\n",
    "clf3 = AdaBoostClassifier(learning_rate=0.8, n_estimators=25, random_state=42)"
   ]
  },
  {
   "cell_type": "markdown",
   "metadata": {
    "cell_id": "00066-18ef7fc8-daa4-40a9-a176-dcb5b94ab2c7",
    "deepnote_cell_height": 62,
    "deepnote_cell_type": "markdown"
   },
   "source": [
    "### SVM"
   ]
  },
  {
   "cell_type": "code",
   "execution_count": null,
   "metadata": {
    "cell_id": "00067-b861dcc4-b716-4e1f-b1fd-f247b5cd779a",
    "deepnote_cell_height": 189,
    "deepnote_cell_type": "code",
    "deepnote_to_be_reexecuted": true,
    "execution_millis": 290,
    "execution_start": 1650223048129,
    "source_hash": "3b68c6ea"
   },
   "outputs": [],
   "source": [
    "from sklearn import svm\n",
    "svm_model = svm.SVC(gamma=\"scale\",kernel=\"rbf\")\n",
    "svm_model.fit(train_X, train_y)\n",
    "y_pred = svm_model.predict(test_X)\n",
    "\n",
    "train_svm = svm_model.score(train_X, train_y)\n",
    "test_svm = svm_model.score(test_X, test_y)"
   ]
  },
  {
   "cell_type": "code",
   "execution_count": null,
   "metadata": {
    "cell_id": "00068-264177c4-13bc-496e-8ee4-e1d3c6a3846a",
    "deepnote_cell_height": 118.1875,
    "deepnote_cell_type": "code",
    "deepnote_output_heights": [
     21.1875
    ],
    "deepnote_to_be_reexecuted": true,
    "execution_millis": 7,
    "execution_start": 1650223048423,
    "source_hash": "80fdada1"
   },
   "outputs": [
    {
     "data": {
      "text/plain": [
       "0.9446039035591275"
      ]
     },
     "execution_count": 70,
     "metadata": {},
     "output_type": "execute_result"
    }
   ],
   "source": [
    "train_svm"
   ]
  },
  {
   "cell_type": "code",
   "execution_count": null,
   "metadata": {
    "cell_id": "00069-fecf9357-c2a6-4ecc-88a3-9a9ba6ade67e",
    "deepnote_cell_height": 118.1875,
    "deepnote_cell_type": "code",
    "deepnote_output_heights": [
     21.1875
    ],
    "deepnote_to_be_reexecuted": true,
    "execution_millis": 4,
    "execution_start": 1650223048430,
    "source_hash": "fc70b458"
   },
   "outputs": [
    {
     "data": {
      "text/plain": [
       "0.9368541905855339"
      ]
     },
     "execution_count": 71,
     "metadata": {},
     "output_type": "execute_result"
    }
   ],
   "source": [
    "test_svm"
   ]
  },
  {
   "cell_type": "code",
   "execution_count": null,
   "metadata": {
    "cell_id": "12cabbd561c74b7f8ad4908ad6992960",
    "deepnote_cell_height": 172.1875,
    "deepnote_cell_type": "code",
    "deepnote_output_heights": [
     21.1875
    ],
    "deepnote_to_be_reexecuted": true,
    "execution_millis": 9,
    "execution_start": 1650223048434,
    "source_hash": "98f30209",
    "tags": []
   },
   "outputs": [
    {
     "data": {
      "text/plain": [
       "[0.9866666666666667, 0.989247311827957, 0.5631067961165048]"
      ]
     },
     "execution_count": 72,
     "metadata": {},
     "output_type": "execute_result"
    }
   ],
   "source": [
    "m_svm = confusion_matrix(test_y, y_pred)\n",
    "svm_byclass = m_svm.diagonal()/m_svm.sum(axis=1)\n",
    "svm_byclass = svm_byclass.tolist()\n",
    "svm_byclass"
   ]
  },
  {
   "cell_type": "markdown",
   "metadata": {
    "cell_id": "00070-c95f0854-ec4e-4b2a-a9f3-2a00cc4582a2",
    "deepnote_cell_height": 62,
    "deepnote_cell_type": "markdown"
   },
   "source": [
    "### MLP"
   ]
  },
  {
   "cell_type": "code",
   "execution_count": null,
   "metadata": {
    "cell_id": "00071-0de7c5d8-d085-475d-b36f-5bf7fd50949e",
    "deepnote_cell_height": 243.890625,
    "deepnote_cell_type": "code",
    "deepnote_to_be_reexecuted": true,
    "execution_millis": 2236,
    "execution_start": 1650223048483,
    "source_hash": "bbc1f390"
   },
   "outputs": [
    {
     "name": "stderr",
     "output_type": "stream",
     "text": [
      "/shared-libs/python3.7/py/lib/python3.7/site-packages/sklearn/neural_network/_multilayer_perceptron.py:696: ConvergenceWarning: Stochastic Optimizer: Maximum iterations (200) reached and the optimization hasn't converged yet.\n",
      "  ConvergenceWarning,\n"
     ]
    }
   ],
   "source": [
    "from sklearn.neural_network import MLPClassifier\n",
    "mlp_model = MLPClassifier(activation='tanh', hidden_layer_sizes=(20,), random_state=42)\n",
    "mlp_model.fit(train_X, train_y)\n",
    "y_pred = mlp_model.predict(test_X)\n",
    "\n",
    "train_mlp = mlp_model.score(train_X, train_y)\n",
    "test_mlp = mlp_model.score(test_X, test_y)"
   ]
  },
  {
   "cell_type": "code",
   "execution_count": null,
   "metadata": {
    "cell_id": "00072-781fb2bd-91d7-4a8f-9a68-cdb10dddcf41",
    "deepnote_cell_height": 118.1875,
    "deepnote_cell_type": "code",
    "deepnote_output_heights": [
     21.1875
    ],
    "deepnote_to_be_reexecuted": true,
    "execution_millis": 13,
    "execution_start": 1650223050719,
    "source_hash": "bffc41b7"
   },
   "outputs": [
    {
     "data": {
      "text/plain": [
       "0.9601033295063146"
      ]
     },
     "execution_count": 74,
     "metadata": {},
     "output_type": "execute_result"
    }
   ],
   "source": [
    "train_mlp"
   ]
  },
  {
   "cell_type": "code",
   "execution_count": null,
   "metadata": {
    "cell_id": "00073-306eb5ee-89cc-4bd9-81db-f2970341feea",
    "deepnote_cell_height": 118.1875,
    "deepnote_cell_type": "code",
    "deepnote_output_heights": [
     21.1875
    ],
    "deepnote_to_be_reexecuted": true,
    "execution_millis": 14,
    "execution_start": 1650223050728,
    "source_hash": "27edb575"
   },
   "outputs": [
    {
     "data": {
      "text/plain": [
       "0.9494833524684271"
      ]
     },
     "execution_count": 75,
     "metadata": {},
     "output_type": "execute_result"
    }
   ],
   "source": [
    "test_mlp"
   ]
  },
  {
   "cell_type": "code",
   "execution_count": null,
   "metadata": {
    "cell_id": "00074-e4e0ea13-2d4b-44af-ad5d-ad0ae3dd34d1",
    "deepnote_cell_height": 423.890625,
    "deepnote_cell_type": "code",
    "deepnote_to_be_reexecuted": true,
    "execution_millis": 555387,
    "execution_start": 1650223050787,
    "source_hash": "bbbd919c"
   },
   "outputs": [
    {
     "name": "stderr",
     "output_type": "stream",
     "text": [
      "/shared-libs/python3.7/py/lib/python3.7/site-packages/sklearn/neural_network/_multilayer_perceptron.py:696: ConvergenceWarning: Stochastic Optimizer: Maximum iterations (200) reached and the optimization hasn't converged yet.\n",
      "  ConvergenceWarning,\n"
     ]
    }
   ],
   "source": [
    "from sklearn.model_selection import GridSearchCV\n",
    "\n",
    "param_grid = {\n",
    "                'hidden_layer_sizes': [(10,30,10),(20,)],\n",
    "                'activation': ['tanh', 'relu'],\n",
    "                'solver': ['sgd', 'adam'],\n",
    "                'alpha': [0.0001, 0.05],\n",
    "                'learning_rate': ['constant','adaptive'],\n",
    "             }\n",
    "\n",
    "grid_clf_mlp = GridSearchCV(mlp_model, param_grid, cv=10, n_jobs=-1, refit = True)\n",
    "grid_clf_mlp.fit(train_X, train_y)\n",
    "\n",
    "y_pred = grid_clf_mlp.predict(test_X)\n",
    "\n",
    "train_mlp = grid_clf_mlp.score(train_X, train_y)\n",
    "test_mlp = grid_clf_mlp.score(test_X, test_y)"
   ]
  },
  {
   "cell_type": "code",
   "execution_count": null,
   "metadata": {
    "cell_id": "00075-47afc054-bce4-4c67-9b5c-b3b2f63fba34",
    "deepnote_cell_height": 137.390625,
    "deepnote_cell_type": "code",
    "deepnote_output_heights": [
     40.390625
    ],
    "deepnote_to_be_reexecuted": true,
    "execution_millis": 13,
    "execution_start": 1650223606184,
    "source_hash": "160a0bb"
   },
   "outputs": [
    {
     "data": {
      "text/plain": [
       "MLPClassifier(activation='tanh', alpha=0.05, hidden_layer_sizes=(10, 30, 10),\n",
       "              random_state=42)"
      ]
     },
     "execution_count": 77,
     "metadata": {},
     "output_type": "execute_result"
    }
   ],
   "source": [
    "grid_clf_mlp.best_estimator_"
   ]
  },
  {
   "cell_type": "code",
   "execution_count": null,
   "metadata": {
    "cell_id": "00076-bde61cf1-dea0-4809-8aeb-8d0c77c55884",
    "deepnote_cell_height": 118.1875,
    "deepnote_cell_type": "code",
    "deepnote_output_heights": [
     21.1875
    ],
    "deepnote_to_be_reexecuted": true,
    "execution_millis": 11,
    "execution_start": 1650223606206,
    "source_hash": "bffc41b7"
   },
   "outputs": [
    {
     "data": {
      "text/plain": [
       "0.9649827784156142"
      ]
     },
     "execution_count": 78,
     "metadata": {},
     "output_type": "execute_result"
    }
   ],
   "source": [
    "train_mlp"
   ]
  },
  {
   "cell_type": "code",
   "execution_count": null,
   "metadata": {
    "cell_id": "00077-424aaa63-0eb1-4cd9-b036-94309a41d058",
    "deepnote_cell_height": 118.1875,
    "deepnote_cell_type": "code",
    "deepnote_output_heights": [
     21.1875
    ],
    "deepnote_to_be_reexecuted": true,
    "execution_millis": 10,
    "execution_start": 1650223606217,
    "source_hash": "27edb575"
   },
   "outputs": [
    {
     "data": {
      "text/plain": [
       "0.939150401836969"
      ]
     },
     "execution_count": 79,
     "metadata": {},
     "output_type": "execute_result"
    }
   ],
   "source": [
    "test_mlp"
   ]
  },
  {
   "cell_type": "code",
   "execution_count": null,
   "metadata": {
    "cell_id": "00078-61cfa3a2-3bc8-492c-9b26-e25ad9f13653",
    "deepnote_cell_height": 172.1875,
    "deepnote_cell_type": "code",
    "deepnote_output_heights": [
     21.1875
    ],
    "deepnote_to_be_reexecuted": true,
    "execution_millis": 2,
    "execution_start": 1650223606260,
    "source_hash": "4ec4ee7"
   },
   "outputs": [
    {
     "data": {
      "text/plain": [
       "[0.9837037037037037, 0.989247311827957, 0.6019417475728155]"
      ]
     },
     "execution_count": 80,
     "metadata": {},
     "output_type": "execute_result"
    }
   ],
   "source": [
    "m_mlp = confusion_matrix(test_y, y_pred)\n",
    "mlp_byclass = m_mlp.diagonal()/m_mlp.sum(axis=1)\n",
    "mlp_byclass = mlp_byclass.tolist()\n",
    "mlp_byclass"
   ]
  },
  {
   "cell_type": "code",
   "execution_count": null,
   "metadata": {
    "cell_id": "f360fdc0ecfa47018e215b178f61ba71",
    "deepnote_cell_height": 171,
    "deepnote_cell_type": "code",
    "deepnote_to_be_reexecuted": true,
    "execution_millis": 1,
    "execution_start": 1650224600687,
    "source_hash": "b1cf2393",
    "tags": []
   },
   "outputs": [],
   "source": [
    "methods = ['KNN', 'Decision Tree', 'Random Forest', 'Logistic Regression', 'AdaBoost', 'SVM', 'MLP']\n",
    "train_accuracy = [train_knn, train_tr, train_rf, train_log, train_adb, train_svm, train_mlp]\n",
    "test_accuracy = [test_knn, test_tr, test_rf, test_log, test_adb, test_svm, test_mlp]\n",
    "rock_accuracy = [knn_byclass[0], tr_byclass[0], rf_byclass[0], log_byclass[0], ada_byclass[0], svm_byclass[0], mlp_byclass[0]]\n",
    "instrumental_accuracy = [knn_byclass[1], tr_byclass[1], rf_byclass[1], log_byclass[1], ada_byclass[1], svm_byclass[1], mlp_byclass[1]]\n",
    "hiphop_accuracy = [knn_byclass[2], tr_byclass[2], rf_byclass[2], log_byclass[2], ada_byclass[2], svm_byclass[2], mlp_byclass[2]]"
   ]
  },
  {
   "cell_type": "code",
   "execution_count": null,
   "metadata": {
    "cell_id": "8031a1a40efd4b63b3a2241ee13c2880",
    "deepnote_cell_height": 99,
    "deepnote_cell_type": "code",
    "deepnote_to_be_reexecuted": true,
    "execution_millis": 0,
    "execution_start": 1650224602493,
    "source_hash": "7fb06952",
    "tags": []
   },
   "outputs": [],
   "source": [
    "zipped = list(zip(methods, test_accuracy, train_accuracy, rock_accuracy, instrumental_accuracy, hiphop_accuracy))\n",
    "result = pd.DataFrame(zipped, columns=['Methods', 'Overall Training', 'Overall Testing', 'Rock', 'Instrumental', 'Hip Hop'])"
   ]
  },
  {
   "cell_type": "code",
   "execution_count": null,
   "metadata": {
    "cell_id": "856fa24339e64b1393e38189c34f9654",
    "deepnote_cell_height": 492,
    "deepnote_cell_type": "code",
    "deepnote_to_be_reexecuted": true,
    "execution_millis": 30,
    "execution_start": 1650224604153,
    "source_hash": "302b6f69",
    "tags": []
   },
   "outputs": [
    {
     "data": {
      "application/vnd.deepnote.dataframe.v3+json": {
       "column_count": 6,
       "columns": [
        {
         "dtype": "object",
         "name": "Methods",
         "stats": {
          "categories": [
           {
            "count": 1,
            "name": "Random Forest"
           },
           {
            "count": 1,
            "name": "MLP"
           },
           {
            "count": 5,
            "name": "5 others"
           }
          ],
          "nan_count": 0,
          "unique_count": 7
         }
        },
        {
         "dtype": "float64",
         "name": "Overall Training",
         "stats": {
          "histogram": [
           {
            "bin_end": 0.91436,
            "bin_start": 0.9116,
            "count": 1
           },
           {
            "bin_end": 0.9171199999999999,
            "bin_start": 0.91436,
            "count": 0
           },
           {
            "bin_end": 0.91988,
            "bin_start": 0.9171199999999999,
            "count": 0
           },
           {
            "bin_end": 0.92264,
            "bin_start": 0.91988,
            "count": 0
           },
           {
            "bin_end": 0.9254,
            "bin_start": 0.92264,
            "count": 0
           },
           {
            "bin_end": 0.92816,
            "bin_start": 0.9254,
            "count": 0
           },
           {
            "bin_end": 0.93092,
            "bin_start": 0.92816,
            "count": 0
           },
           {
            "bin_end": 0.9336800000000001,
            "bin_start": 0.93092,
            "count": 1
           },
           {
            "bin_end": 0.93644,
            "bin_start": 0.9336800000000001,
            "count": 1
           },
           {
            "bin_end": 0.9392,
            "bin_start": 0.93644,
            "count": 4
           }
          ],
          "max": "0.9392",
          "min": "0.9116",
          "nan_count": 0,
          "unique_count": 5
         }
        },
        {
         "dtype": "float64",
         "name": "Overall Testing",
         "stats": {
          "histogram": [
           {
            "bin_end": 0.92461,
            "bin_start": 0.9193,
            "count": 1
           },
           {
            "bin_end": 0.92992,
            "bin_start": 0.92461,
            "count": 0
           },
           {
            "bin_end": 0.93523,
            "bin_start": 0.92992,
            "count": 0
           },
           {
            "bin_end": 0.94054,
            "bin_start": 0.93523,
            "count": 1
           },
           {
            "bin_end": 0.9458500000000001,
            "bin_start": 0.94054,
            "count": 1
           },
           {
            "bin_end": 0.95116,
            "bin_start": 0.9458500000000001,
            "count": 1
           },
           {
            "bin_end": 0.95647,
            "bin_start": 0.95116,
            "count": 1
           },
           {
            "bin_end": 0.9617800000000001,
            "bin_start": 0.95647,
            "count": 0
           },
           {
            "bin_end": 0.96709,
            "bin_start": 0.9617800000000001,
            "count": 1
           },
           {
            "bin_end": 0.9724,
            "bin_start": 0.96709,
            "count": 1
           }
          ],
          "max": "0.9724",
          "min": "0.9193",
          "nan_count": 0,
          "unique_count": 7
         }
        },
        {
         "dtype": "float64",
         "name": "Rock",
         "stats": {
          "histogram": [
           {
            "bin_end": 0.9845900000000001,
            "bin_start": 0.9837,
            "count": 2
           },
           {
            "bin_end": 0.98548,
            "bin_start": 0.9845900000000001,
            "count": 2
           },
           {
            "bin_end": 0.98637,
            "bin_start": 0.98548,
            "count": 0
           },
           {
            "bin_end": 0.98726,
            "bin_start": 0.98637,
            "count": 1
           },
           {
            "bin_end": 0.9881500000000001,
            "bin_start": 0.98726,
            "count": 1
           },
           {
            "bin_end": 0.98904,
            "bin_start": 0.9881500000000001,
            "count": 0
           },
           {
            "bin_end": 0.98993,
            "bin_start": 0.98904,
            "count": 0
           },
           {
            "bin_end": 0.99082,
            "bin_start": 0.98993,
            "count": 0
           },
           {
            "bin_end": 0.9917100000000001,
            "bin_start": 0.99082,
            "count": 0
           },
           {
            "bin_end": 0.9926,
            "bin_start": 0.9917100000000001,
            "count": 1
           }
          ],
          "max": "0.9926",
          "min": "0.9837",
          "nan_count": 0,
          "unique_count": 5
         }
        },
        {
         "dtype": "float64",
         "name": "Instrumental",
         "stats": {
          "histogram": [
           {
            "bin_end": 0.86455,
            "bin_start": 0.8495,
            "count": 1
           },
           {
            "bin_end": 0.8796,
            "bin_start": 0.86455,
            "count": 0
           },
           {
            "bin_end": 0.8946500000000001,
            "bin_start": 0.8796,
            "count": 0
           },
           {
            "bin_end": 0.9097000000000001,
            "bin_start": 0.8946500000000001,
            "count": 0
           },
           {
            "bin_end": 0.92475,
            "bin_start": 0.9097000000000001,
            "count": 0
           },
           {
            "bin_end": 0.9398,
            "bin_start": 0.92475,
            "count": 0
           },
           {
            "bin_end": 0.95485,
            "bin_start": 0.9398,
            "count": 0
           },
           {
            "bin_end": 0.9699,
            "bin_start": 0.95485,
            "count": 0
           },
           {
            "bin_end": 0.98495,
            "bin_start": 0.9699,
            "count": 1
           },
           {
            "bin_end": 1,
            "bin_start": 0.98495,
            "count": 5
           }
          ],
          "max": "1.0",
          "min": "0.8495",
          "nan_count": 0,
          "unique_count": 4
         }
        },
        {
         "dtype": "float64",
         "name": "Hip Hop",
         "stats": {
          "histogram": [
           {
            "bin_end": 0.47959,
            "bin_start": 0.466,
            "count": 1
           },
           {
            "bin_end": 0.49318,
            "bin_start": 0.47959,
            "count": 0
           },
           {
            "bin_end": 0.50677,
            "bin_start": 0.49318,
            "count": 0
           },
           {
            "bin_end": 0.52036,
            "bin_start": 0.50677,
            "count": 0
           },
           {
            "bin_end": 0.53395,
            "bin_start": 0.52036,
            "count": 0
           },
           {
            "bin_end": 0.54754,
            "bin_start": 0.53395,
            "count": 1
           },
           {
            "bin_end": 0.56113,
            "bin_start": 0.54754,
            "count": 2
           },
           {
            "bin_end": 0.57472,
            "bin_start": 0.56113,
            "count": 1
           },
           {
            "bin_end": 0.58831,
            "bin_start": 0.57472,
            "count": 0
           },
           {
            "bin_end": 0.6019,
            "bin_start": 0.58831,
            "count": 2
           }
          ],
          "max": "0.6019",
          "min": "0.466",
          "nan_count": 0,
          "unique_count": 6
         }
        },
        {
         "dtype": "int64",
         "name": "_deepnote_index_column"
        }
       ],
       "row_count": 7,
       "rows": [
        {
         "Hip Hop": 0.5534,
         "Instrumental": 0.9785,
         "Methods": "Random Forest",
         "Overall Testing": 0.9724,
         "Overall Training": 0.9392,
         "Rock": 0.9926,
         "_deepnote_index_column": 2
        },
        {
         "Hip Hop": 0.6019,
         "Instrumental": 0.9892,
         "Methods": "MLP",
         "Overall Testing": 0.965,
         "Overall Training": 0.9392,
         "Rock": 0.9837,
         "_deepnote_index_column": 6
        },
        {
         "Hip Hop": 0.5534,
         "Instrumental": 1,
         "Methods": "Decision Tree",
         "Overall Testing": 0.9512,
         "Overall Training": 0.9357,
         "Rock": 0.9852,
         "_deepnote_index_column": 1
        },
        {
         "Hip Hop": 0.534,
         "Instrumental": 0.9892,
         "Methods": "KNN",
         "Overall Testing": 0.9501,
         "Overall Training": 0.9323,
         "Rock": 0.9852,
         "_deepnote_index_column": 0
        },
        {
         "Hip Hop": 0.5631,
         "Instrumental": 0.9892,
         "Methods": "SVM",
         "Overall Testing": 0.9446,
         "Overall Training": 0.9369,
         "Rock": 0.9867,
         "_deepnote_index_column": 5
        },
        {
         "Hip Hop": 0.5922,
         "Instrumental": 1,
         "Methods": "Logistic Regression",
         "Overall Testing": 0.9392,
         "Overall Training": 0.9392,
         "Rock": 0.9837,
         "_deepnote_index_column": 3
        },
        {
         "Hip Hop": 0.466,
         "Instrumental": 0.8495,
         "Methods": "AdaBoost",
         "Overall Testing": 0.9193,
         "Overall Training": 0.9116,
         "Rock": 0.9881,
         "_deepnote_index_column": 4
        }
       ]
      },
      "text/html": [
       "<div>\n",
       "<style scoped>\n",
       "    .dataframe tbody tr th:only-of-type {\n",
       "        vertical-align: middle;\n",
       "    }\n",
       "\n",
       "    .dataframe tbody tr th {\n",
       "        vertical-align: top;\n",
       "    }\n",
       "\n",
       "    .dataframe thead th {\n",
       "        text-align: right;\n",
       "    }\n",
       "</style>\n",
       "<table border=\"1\" class=\"dataframe\">\n",
       "  <thead>\n",
       "    <tr style=\"text-align: right;\">\n",
       "      <th></th>\n",
       "      <th>Methods</th>\n",
       "      <th>Overall Training</th>\n",
       "      <th>Overall Testing</th>\n",
       "      <th>Rock</th>\n",
       "      <th>Instrumental</th>\n",
       "      <th>Hip Hop</th>\n",
       "    </tr>\n",
       "  </thead>\n",
       "  <tbody>\n",
       "    <tr>\n",
       "      <th>2</th>\n",
       "      <td>Random Forest</td>\n",
       "      <td>0.9392</td>\n",
       "      <td>0.9724</td>\n",
       "      <td>0.9926</td>\n",
       "      <td>0.9785</td>\n",
       "      <td>0.5534</td>\n",
       "    </tr>\n",
       "    <tr>\n",
       "      <th>6</th>\n",
       "      <td>MLP</td>\n",
       "      <td>0.9392</td>\n",
       "      <td>0.9650</td>\n",
       "      <td>0.9837</td>\n",
       "      <td>0.9892</td>\n",
       "      <td>0.6019</td>\n",
       "    </tr>\n",
       "    <tr>\n",
       "      <th>1</th>\n",
       "      <td>Decision Tree</td>\n",
       "      <td>0.9357</td>\n",
       "      <td>0.9512</td>\n",
       "      <td>0.9852</td>\n",
       "      <td>1.0000</td>\n",
       "      <td>0.5534</td>\n",
       "    </tr>\n",
       "    <tr>\n",
       "      <th>0</th>\n",
       "      <td>KNN</td>\n",
       "      <td>0.9323</td>\n",
       "      <td>0.9501</td>\n",
       "      <td>0.9852</td>\n",
       "      <td>0.9892</td>\n",
       "      <td>0.5340</td>\n",
       "    </tr>\n",
       "    <tr>\n",
       "      <th>5</th>\n",
       "      <td>SVM</td>\n",
       "      <td>0.9369</td>\n",
       "      <td>0.9446</td>\n",
       "      <td>0.9867</td>\n",
       "      <td>0.9892</td>\n",
       "      <td>0.5631</td>\n",
       "    </tr>\n",
       "    <tr>\n",
       "      <th>3</th>\n",
       "      <td>Logistic Regression</td>\n",
       "      <td>0.9392</td>\n",
       "      <td>0.9392</td>\n",
       "      <td>0.9837</td>\n",
       "      <td>1.0000</td>\n",
       "      <td>0.5922</td>\n",
       "    </tr>\n",
       "    <tr>\n",
       "      <th>4</th>\n",
       "      <td>AdaBoost</td>\n",
       "      <td>0.9116</td>\n",
       "      <td>0.9193</td>\n",
       "      <td>0.9881</td>\n",
       "      <td>0.8495</td>\n",
       "      <td>0.4660</td>\n",
       "    </tr>\n",
       "  </tbody>\n",
       "</table>\n",
       "</div>"
      ],
      "text/plain": [
       "               Methods  Overall Training  Overall Testing    Rock  \\\n",
       "2        Random Forest            0.9392           0.9724  0.9926   \n",
       "6                  MLP            0.9392           0.9650  0.9837   \n",
       "1        Decision Tree            0.9357           0.9512  0.9852   \n",
       "0                  KNN            0.9323           0.9501  0.9852   \n",
       "5                  SVM            0.9369           0.9446  0.9867   \n",
       "3  Logistic Regression            0.9392           0.9392  0.9837   \n",
       "4             AdaBoost            0.9116           0.9193  0.9881   \n",
       "\n",
       "   Instrumental  Hip Hop  \n",
       "2        0.9785   0.5534  \n",
       "6        0.9892   0.6019  \n",
       "1        1.0000   0.5534  \n",
       "0        0.9892   0.5340  \n",
       "5        0.9892   0.5631  \n",
       "3        1.0000   0.5922  \n",
       "4        0.8495   0.4660  "
      ]
     },
     "execution_count": 97,
     "metadata": {},
     "output_type": "execute_result"
    }
   ],
   "source": [
    "result.round(4).sort_values('Overall Testing', ascending=False)"
   ]
  },
  {
   "cell_type": "code",
   "execution_count": null,
   "metadata": {
    "cell_id": "5f6a5dfb5b0e45e0ba3b1f26b981459d",
    "deepnote_cell_height": 81,
    "deepnote_cell_type": "code",
    "deepnote_to_be_reexecuted": true,
    "source_hash": "b623e53d",
    "tags": []
   },
   "outputs": [],
   "source": []
  },
  {
   "cell_type": "markdown",
   "metadata": {
    "created_in_deepnote_cell": true,
    "deepnote_cell_type": "markdown",
    "tags": []
   },
   "source": [
    "<a style='text-decoration:none;line-height:16px;display:flex;color:#5B5B62;padding:10px;justify-content:end;' href='https://deepnote.com?utm_source=created-in-deepnote-cell&projectId=e4924ded-6215-4237-94b8-cc94e30e18e7' target=\"_blank\">\n",
    "<img alt='Created in deepnote.com' style='display:inline;max-height:16px;margin:0px;margin-right:7.5px;' src='data:image/svg+xml;base64,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' > </img>\n",
    "Created in <span style='font-weight:600;margin-left:4px;'>Deepnote</span></a>"
   ]
  }
 ],
 "metadata": {
  "deepnote": {},
  "deepnote_execution_queue": [],
  "deepnote_notebook_id": "2832a9d5-78d0-4b21-8bf9-c610ca4b8ce1",
  "kernelspec": {
   "display_name": "Python 3",
   "language": "python",
   "name": "python3"
  },
  "language_info": {
   "codemirror_mode": {
    "name": "ipython",
    "version": 3
   },
   "file_extension": ".py",
   "mimetype": "text/x-python",
   "name": "python",
   "nbconvert_exporter": "python",
   "pygments_lexer": "ipython3",
   "version": "3.7.1"
  }
 },
 "nbformat": 4,
 "nbformat_minor": 5
}
